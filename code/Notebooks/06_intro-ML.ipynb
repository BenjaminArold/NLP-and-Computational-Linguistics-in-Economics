{
 "cells": [
  {
   "cell_type": "markdown",
   "metadata": {},
   "source": [
    "# Lecture 06. Machine Learning with Text Data"
   ]
  },
  {
   "cell_type": "markdown",
   "metadata": {},
   "source": [
    "Natural Language Processing for Law and Social Science<br>\n",
    "Elliott Ash, ETH Zurich"
   ]
  },
  {
   "cell_type": "code",
   "execution_count": 1,
   "metadata": {},
   "outputs": [],
   "source": [
    "# set random seed\n",
    "import numpy as np\n",
    "np.random.seed(4)"
   ]
  },
  {
   "cell_type": "code",
   "execution_count": 2,
   "metadata": {},
   "outputs": [
    {
     "data": {
      "text/html": [
       "<div>\n",
       "<style scoped>\n",
       "    .dataframe tbody tr th:only-of-type {\n",
       "        vertical-align: middle;\n",
       "    }\n",
       "\n",
       "    .dataframe tbody tr th {\n",
       "        vertical-align: top;\n",
       "    }\n",
       "\n",
       "    .dataframe thead th {\n",
       "        text-align: right;\n",
       "    }\n",
       "</style>\n",
       "<table border=\"1\" class=\"dataframe\">\n",
       "  <thead>\n",
       "    <tr style=\"text-align: right;\">\n",
       "      <th></th>\n",
       "      <th>case_name</th>\n",
       "      <th>opinion_type</th>\n",
       "      <th>date_standard</th>\n",
       "      <th>authorship</th>\n",
       "      <th>x_republican</th>\n",
       "      <th>maj_judges</th>\n",
       "      <th>dissent_judges</th>\n",
       "      <th>topic_id</th>\n",
       "      <th>cite_count</th>\n",
       "      <th>opinion_text</th>\n",
       "      <th>year</th>\n",
       "      <th>log_cite_count</th>\n",
       "      <th>preprocessed</th>\n",
       "    </tr>\n",
       "  </thead>\n",
       "  <tbody>\n",
       "    <tr>\n",
       "      <th>0</th>\n",
       "      <td>ERICK CORNELL CLAY v. UNITED STATES</td>\n",
       "      <td>majority</td>\n",
       "      <td>2003-03-04</td>\n",
       "      <td>GINSBURG</td>\n",
       "      <td>0.0</td>\n",
       "      <td>['BREYER, STEPHEN', 'GINSBURG, RUTH', 'KENNEDY...</td>\n",
       "      <td>[]</td>\n",
       "      <td>1.0</td>\n",
       "      <td>2926.0</td>\n",
       "      <td>JUSTICE GINSBURG delivered the opinion of the ...</td>\n",
       "      <td>2003</td>\n",
       "      <td>7.981392</td>\n",
       "      <td>justic ginsburg deliv opinion court motion fed...</td>\n",
       "    </tr>\n",
       "    <tr>\n",
       "      <th>1</th>\n",
       "      <td>HILLSIDE DAIRY INC., A&amp;A DAIRY, L&amp;S DAIRY, AND...</td>\n",
       "      <td>majority</td>\n",
       "      <td>2003-06-09</td>\n",
       "      <td>STEVENS</td>\n",
       "      <td>1.0</td>\n",
       "      <td>['BREYER, STEPHEN', 'GINSBURG, RUTH', 'KENNEDY...</td>\n",
       "      <td>['THOMAS, CLARENCE']</td>\n",
       "      <td>8.0</td>\n",
       "      <td>117.0</td>\n",
       "      <td>Justice Stevens delivered the opinion of the C...</td>\n",
       "      <td>2003</td>\n",
       "      <td>4.762174</td>\n",
       "      <td>justic steven deliv opinion court unit state i...</td>\n",
       "    </tr>\n",
       "    <tr>\n",
       "      <th>2</th>\n",
       "      <td>CHARLES RUSSELL RHINES v. DOUGLAS WEBER, WARDEN</td>\n",
       "      <td>majority</td>\n",
       "      <td>2005-03-30</td>\n",
       "      <td>O'CONNOR</td>\n",
       "      <td>1.0</td>\n",
       "      <td>['BREYER, STEPHEN', 'GINSBURG, RUTH', 'KENNEDY...</td>\n",
       "      <td>[]</td>\n",
       "      <td>1.0</td>\n",
       "      <td>23364.0</td>\n",
       "      <td>Justice O'Connor delivered the opinion of the ...</td>\n",
       "      <td>2005</td>\n",
       "      <td>10.058952</td>\n",
       "      <td>justic oconnor deliv opinion court confront pr...</td>\n",
       "    </tr>\n",
       "    <tr>\n",
       "      <th>3</th>\n",
       "      <td>STATE OF ALASKA v. UNITED STATES OF AMERICA</td>\n",
       "      <td>majority</td>\n",
       "      <td>2005-06-06</td>\n",
       "      <td>KENNEDY</td>\n",
       "      <td>1.0</td>\n",
       "      <td>['BREYER, STEPHEN', 'GINSBURG, RUTH', 'KENNEDY...</td>\n",
       "      <td>['REHNQUIST, WILLIAM', 'SCALIA, ANTONIN', 'THO...</td>\n",
       "      <td>10.0</td>\n",
       "      <td>84.0</td>\n",
       "      <td>Justice Kennedy delivered the opinion of the C...</td>\n",
       "      <td>2005</td>\n",
       "      <td>4.430817</td>\n",
       "      <td>justic kennedi deliv opinion court state alask...</td>\n",
       "    </tr>\n",
       "    <tr>\n",
       "      <th>4</th>\n",
       "      <td>REGINALD A. WILKINSON, DIRECTOR, OHIO DEPARTME...</td>\n",
       "      <td>majority</td>\n",
       "      <td>2005-06-13</td>\n",
       "      <td>KENNEDY</td>\n",
       "      <td>1.0</td>\n",
       "      <td>['BREYER, STEPHEN', 'GINSBURG, RUTH', 'KENNEDY...</td>\n",
       "      <td>[]</td>\n",
       "      <td>4.0</td>\n",
       "      <td>4230.0</td>\n",
       "      <td>Justice Kennedy delivered the opinion of the C...</td>\n",
       "      <td>2005</td>\n",
       "      <td>8.349957</td>\n",
       "      <td>justic kennedi deliv opinion court case involv...</td>\n",
       "    </tr>\n",
       "  </tbody>\n",
       "</table>\n",
       "</div>"
      ],
      "text/plain": [
       "                                           case_name opinion_type  \\\n",
       "0                ERICK CORNELL CLAY v. UNITED STATES     majority   \n",
       "1  HILLSIDE DAIRY INC., A&A DAIRY, L&S DAIRY, AND...     majority   \n",
       "2    CHARLES RUSSELL RHINES v. DOUGLAS WEBER, WARDEN     majority   \n",
       "3        STATE OF ALASKA v. UNITED STATES OF AMERICA     majority   \n",
       "4  REGINALD A. WILKINSON, DIRECTOR, OHIO DEPARTME...     majority   \n",
       "\n",
       "  date_standard authorship  x_republican  \\\n",
       "0    2003-03-04   GINSBURG           0.0   \n",
       "1    2003-06-09    STEVENS           1.0   \n",
       "2    2005-03-30   O'CONNOR           1.0   \n",
       "3    2005-06-06    KENNEDY           1.0   \n",
       "4    2005-06-13    KENNEDY           1.0   \n",
       "\n",
       "                                          maj_judges  \\\n",
       "0  ['BREYER, STEPHEN', 'GINSBURG, RUTH', 'KENNEDY...   \n",
       "1  ['BREYER, STEPHEN', 'GINSBURG, RUTH', 'KENNEDY...   \n",
       "2  ['BREYER, STEPHEN', 'GINSBURG, RUTH', 'KENNEDY...   \n",
       "3  ['BREYER, STEPHEN', 'GINSBURG, RUTH', 'KENNEDY...   \n",
       "4  ['BREYER, STEPHEN', 'GINSBURG, RUTH', 'KENNEDY...   \n",
       "\n",
       "                                      dissent_judges  topic_id  cite_count  \\\n",
       "0                                                 []       1.0      2926.0   \n",
       "1                               ['THOMAS, CLARENCE']       8.0       117.0   \n",
       "2                                                 []       1.0     23364.0   \n",
       "3  ['REHNQUIST, WILLIAM', 'SCALIA, ANTONIN', 'THO...      10.0        84.0   \n",
       "4                                                 []       4.0      4230.0   \n",
       "\n",
       "                                        opinion_text  year  log_cite_count  \\\n",
       "0  JUSTICE GINSBURG delivered the opinion of the ...  2003        7.981392   \n",
       "1  Justice Stevens delivered the opinion of the C...  2003        4.762174   \n",
       "2  Justice O'Connor delivered the opinion of the ...  2005       10.058952   \n",
       "3  Justice Kennedy delivered the opinion of the C...  2005        4.430817   \n",
       "4  Justice Kennedy delivered the opinion of the C...  2005        8.349957   \n",
       "\n",
       "                                        preprocessed  \n",
       "0  justic ginsburg deliv opinion court motion fed...  \n",
       "1  justic steven deliv opinion court unit state i...  \n",
       "2  justic oconnor deliv opinion court confront pr...  \n",
       "3  justic kennedi deliv opinion court state alask...  \n",
       "4  justic kennedi deliv opinion court case involv...  "
      ]
     },
     "execution_count": 2,
     "metadata": {},
     "output_type": "execute_result"
    }
   ],
   "source": [
    "# set up\n",
    "import warnings; warnings.simplefilter('ignore')\n",
    "#%matplotlib notebook\n",
    "import pandas as pd\n",
    "df = pd.read_pickle('sc_cases_cleaned.pkl',compression='gzip')\n",
    "df=df.reset_index(drop=True)\n",
    "df.head()"
   ]
  },
  {
   "cell_type": "code",
   "execution_count": 3,
   "metadata": {
    "scrolled": true
   },
   "outputs": [
    {
     "data": {
      "text/plain": [
       "SCALIA       94\n",
       "GINSBURG     89\n",
       "THOMAS       87\n",
       "KENNEDY      86\n",
       "BREYER       85\n",
       "STEVENS      79\n",
       "SOUTER       77\n",
       "O'CONNOR     52\n",
       "REHNQUIST    49\n",
       "ROBERTS      38\n",
       "ALITO        32\n",
       "Name: authorship, dtype: int64"
      ]
     },
     "execution_count": 3,
     "metadata": {},
     "output_type": "execute_result"
    }
   ],
   "source": [
    "df = df.assign(authorship_id=(df['authorship']).astype('category').cat.codes)\n",
    "df['authorship'].value_counts() "
   ]
  },
  {
   "cell_type": "code",
   "execution_count": 5,
   "metadata": {},
   "outputs": [
    {
     "data": {
      "text/plain": [
       "array([[<AxesSubplot:title={'center':'year'}>,\n",
       "        <AxesSubplot:title={'center':'log_cite_count'}>]], dtype=object)"
      ]
     },
     "execution_count": 5,
     "metadata": {},
     "output_type": "execute_result"
    },
    {
     "data": {
      "image/png": "[encoded data removed]",
      "text/plain": [
       "<Figure size 432x288 with 2 Axes>"
      ]
     },
     "metadata": {
      "needs_background": "light"
     },
     "output_type": "display_data"
    }
   ],
   "source": [
    "df[['year','log_cite_count']].hist()"
   ]
  },
  {
   "cell_type": "code",
   "execution_count": 135,
   "metadata": {},
   "outputs": [
    {
     "name": "stdout",
     "output_type": "stream",
     "text": [
      "['act', 'claim', 'congress', 'district', 'district court', 'government', 'rule', 'state', 'statute', 'supra']\n"
     ]
    },
    {
     "data": {
      "text/plain": [
       "<768x10 sparse matrix of type '<class 'numpy.int64'>'\n",
       "\twith 6199 stored elements in Compressed Sparse Row format>"
      ]
     },
     "execution_count": 135,
     "metadata": {},
     "output_type": "execute_result"
    }
   ],
   "source": [
    "from sklearn.feature_extraction.text import CountVectorizer\n",
    "vectorizer = CountVectorizer(min_df=0.01, # at min 1% of docs\n",
    "                        max_df=.9,  \n",
    "                        max_features=10,\n",
    "                        stop_words='english',\n",
    "                        ngram_range=(1,3))\n",
    "X = vectorizer.fit_transform(df['opinion_text'])\n",
    "words = vectorizer.get_feature_names()\n",
    "print(words)\n",
    "X"
   ]
  },
  {
   "cell_type": "code",
   "execution_count": 137,
   "metadata": {},
   "outputs": [
    {
     "data": {
      "text/html": [
       "<div>\n",
       "<style scoped>\n",
       "    .dataframe tbody tr th:only-of-type {\n",
       "        vertical-align: middle;\n",
       "    }\n",
       "\n",
       "    .dataframe tbody tr th {\n",
       "        vertical-align: top;\n",
       "    }\n",
       "\n",
       "    .dataframe thead th {\n",
       "        text-align: right;\n",
       "    }\n",
       "</style>\n",
       "<table border=\"1\" class=\"dataframe\">\n",
       "  <thead>\n",
       "    <tr style=\"text-align: right;\">\n",
       "      <th></th>\n",
       "      <th>case_name</th>\n",
       "      <th>opinion_type</th>\n",
       "      <th>date_standard</th>\n",
       "      <th>authorship</th>\n",
       "      <th>x_republican</th>\n",
       "      <th>maj_judges</th>\n",
       "      <th>dissent_judges</th>\n",
       "      <th>topic_id</th>\n",
       "      <th>cite_count</th>\n",
       "      <th>opinion_text</th>\n",
       "      <th>...</th>\n",
       "      <th>x_violated</th>\n",
       "      <th>x_violation</th>\n",
       "      <th>x_water</th>\n",
       "      <th>x_way</th>\n",
       "      <th>x_west</th>\n",
       "      <th>x_words</th>\n",
       "      <th>x_work</th>\n",
       "      <th>x_year</th>\n",
       "      <th>x_years</th>\n",
       "      <th>x_york</th>\n",
       "    </tr>\n",
       "  </thead>\n",
       "  <tbody>\n",
       "    <tr>\n",
       "      <th>0</th>\n",
       "      <td>ERICK CORNELL CLAY v. UNITED STATES</td>\n",
       "      <td>majority</td>\n",
       "      <td>2003-03-04</td>\n",
       "      <td>GINSBURG</td>\n",
       "      <td>0.0</td>\n",
       "      <td>['BREYER, STEPHEN', 'GINSBURG, RUTH', 'KENNEDY...</td>\n",
       "      <td>[]</td>\n",
       "      <td>1.0</td>\n",
       "      <td>2926.0</td>\n",
       "      <td>JUSTICE GINSBURG delivered the opinion of the ...</td>\n",
       "      <td>...</td>\n",
       "      <td>0.000000</td>\n",
       "      <td>0.003419</td>\n",
       "      <td>0.000000</td>\n",
       "      <td>0.001709</td>\n",
       "      <td>0.000000</td>\n",
       "      <td>0.011966</td>\n",
       "      <td>0.000000</td>\n",
       "      <td>0.017094</td>\n",
       "      <td>0.000000</td>\n",
       "      <td>0.0</td>\n",
       "    </tr>\n",
       "    <tr>\n",
       "      <th>1</th>\n",
       "      <td>HILLSIDE DAIRY INC., A&amp;A DAIRY, L&amp;S DAIRY, AND...</td>\n",
       "      <td>majority</td>\n",
       "      <td>2003-06-09</td>\n",
       "      <td>STEVENS</td>\n",
       "      <td>1.0</td>\n",
       "      <td>['BREYER, STEPHEN', 'GINSBURG, RUTH', 'KENNEDY...</td>\n",
       "      <td>['THOMAS, CLARENCE']</td>\n",
       "      <td>8.0</td>\n",
       "      <td>117.0</td>\n",
       "      <td>Justice Stevens delivered the opinion of the C...</td>\n",
       "      <td>...</td>\n",
       "      <td>0.002639</td>\n",
       "      <td>0.000000</td>\n",
       "      <td>0.000000</td>\n",
       "      <td>0.000000</td>\n",
       "      <td>0.005277</td>\n",
       "      <td>0.002639</td>\n",
       "      <td>0.000000</td>\n",
       "      <td>0.000000</td>\n",
       "      <td>0.000000</td>\n",
       "      <td>0.0</td>\n",
       "    </tr>\n",
       "    <tr>\n",
       "      <th>2</th>\n",
       "      <td>CHARLES RUSSELL RHINES v. DOUGLAS WEBER, WARDEN</td>\n",
       "      <td>majority</td>\n",
       "      <td>2005-03-30</td>\n",
       "      <td>O'CONNOR</td>\n",
       "      <td>1.0</td>\n",
       "      <td>['BREYER, STEPHEN', 'GINSBURG, RUTH', 'KENNEDY...</td>\n",
       "      <td>[]</td>\n",
       "      <td>1.0</td>\n",
       "      <td>23364.0</td>\n",
       "      <td>Justice O'Connor delivered the opinion of the ...</td>\n",
       "      <td>...</td>\n",
       "      <td>0.000000</td>\n",
       "      <td>0.001634</td>\n",
       "      <td>0.000000</td>\n",
       "      <td>0.001634</td>\n",
       "      <td>0.000000</td>\n",
       "      <td>0.000000</td>\n",
       "      <td>0.000000</td>\n",
       "      <td>0.013072</td>\n",
       "      <td>0.001634</td>\n",
       "      <td>0.0</td>\n",
       "    </tr>\n",
       "    <tr>\n",
       "      <th>3</th>\n",
       "      <td>STATE OF ALASKA v. UNITED STATES OF AMERICA</td>\n",
       "      <td>majority</td>\n",
       "      <td>2005-06-06</td>\n",
       "      <td>KENNEDY</td>\n",
       "      <td>1.0</td>\n",
       "      <td>['BREYER, STEPHEN', 'GINSBURG, RUTH', 'KENNEDY...</td>\n",
       "      <td>['REHNQUIST, WILLIAM', 'SCALIA, ANTONIN', 'THO...</td>\n",
       "      <td>10.0</td>\n",
       "      <td>84.0</td>\n",
       "      <td>Justice Kennedy delivered the opinion of the C...</td>\n",
       "      <td>...</td>\n",
       "      <td>0.000000</td>\n",
       "      <td>0.000000</td>\n",
       "      <td>0.013879</td>\n",
       "      <td>0.002922</td>\n",
       "      <td>0.000000</td>\n",
       "      <td>0.000000</td>\n",
       "      <td>0.000000</td>\n",
       "      <td>0.000730</td>\n",
       "      <td>0.002922</td>\n",
       "      <td>0.0</td>\n",
       "    </tr>\n",
       "    <tr>\n",
       "      <th>4</th>\n",
       "      <td>REGINALD A. WILKINSON, DIRECTOR, OHIO DEPARTME...</td>\n",
       "      <td>majority</td>\n",
       "      <td>2005-06-13</td>\n",
       "      <td>KENNEDY</td>\n",
       "      <td>1.0</td>\n",
       "      <td>['BREYER, STEPHEN', 'GINSBURG, RUTH', 'KENNEDY...</td>\n",
       "      <td>[]</td>\n",
       "      <td>4.0</td>\n",
       "      <td>4230.0</td>\n",
       "      <td>Justice Kennedy delivered the opinion of the C...</td>\n",
       "      <td>...</td>\n",
       "      <td>0.002006</td>\n",
       "      <td>0.002006</td>\n",
       "      <td>0.000000</td>\n",
       "      <td>0.000000</td>\n",
       "      <td>0.000000</td>\n",
       "      <td>0.000000</td>\n",
       "      <td>0.001003</td>\n",
       "      <td>0.003009</td>\n",
       "      <td>0.001003</td>\n",
       "      <td>0.0</td>\n",
       "    </tr>\n",
       "  </tbody>\n",
       "</table>\n",
       "<p>5 rows × 514 columns</p>\n",
       "</div>"
      ],
      "text/plain": [
       "                                           case_name opinion_type  \\\n",
       "0                ERICK CORNELL CLAY v. UNITED STATES     majority   \n",
       "1  HILLSIDE DAIRY INC., A&A DAIRY, L&S DAIRY, AND...     majority   \n",
       "2    CHARLES RUSSELL RHINES v. DOUGLAS WEBER, WARDEN     majority   \n",
       "3        STATE OF ALASKA v. UNITED STATES OF AMERICA     majority   \n",
       "4  REGINALD A. WILKINSON, DIRECTOR, OHIO DEPARTME...     majority   \n",
       "\n",
       "  date_standard authorship  x_republican  \\\n",
       "0    2003-03-04   GINSBURG           0.0   \n",
       "1    2003-06-09    STEVENS           1.0   \n",
       "2    2005-03-30   O'CONNOR           1.0   \n",
       "3    2005-06-06    KENNEDY           1.0   \n",
       "4    2005-06-13    KENNEDY           1.0   \n",
       "\n",
       "                                          maj_judges  \\\n",
       "0  ['BREYER, STEPHEN', 'GINSBURG, RUTH', 'KENNEDY...   \n",
       "1  ['BREYER, STEPHEN', 'GINSBURG, RUTH', 'KENNEDY...   \n",
       "2  ['BREYER, STEPHEN', 'GINSBURG, RUTH', 'KENNEDY...   \n",
       "3  ['BREYER, STEPHEN', 'GINSBURG, RUTH', 'KENNEDY...   \n",
       "4  ['BREYER, STEPHEN', 'GINSBURG, RUTH', 'KENNEDY...   \n",
       "\n",
       "                                      dissent_judges  topic_id  cite_count  \\\n",
       "0                                                 []       1.0      2926.0   \n",
       "1                               ['THOMAS, CLARENCE']       8.0       117.0   \n",
       "2                                                 []       1.0     23364.0   \n",
       "3  ['REHNQUIST, WILLIAM', 'SCALIA, ANTONIN', 'THO...      10.0        84.0   \n",
       "4                                                 []       4.0      4230.0   \n",
       "\n",
       "                                        opinion_text  ...  x_violated  \\\n",
       "0  JUSTICE GINSBURG delivered the opinion of the ...  ...    0.000000   \n",
       "1  Justice Stevens delivered the opinion of the C...  ...    0.002639   \n",
       "2  Justice O'Connor delivered the opinion of the ...  ...    0.000000   \n",
       "3  Justice Kennedy delivered the opinion of the C...  ...    0.000000   \n",
       "4  Justice Kennedy delivered the opinion of the C...  ...    0.002006   \n",
       "\n",
       "   x_violation   x_water     x_way    x_west   x_words    x_work    x_year  \\\n",
       "0     0.003419  0.000000  0.001709  0.000000  0.011966  0.000000  0.017094   \n",
       "1     0.000000  0.000000  0.000000  0.005277  0.002639  0.000000  0.000000   \n",
       "2     0.001634  0.000000  0.001634  0.000000  0.000000  0.000000  0.013072   \n",
       "3     0.000000  0.013879  0.002922  0.000000  0.000000  0.000000  0.000730   \n",
       "4     0.002006  0.000000  0.000000  0.000000  0.000000  0.001003  0.003009   \n",
       "\n",
       "    x_years  x_york  \n",
       "0  0.000000     0.0  \n",
       "1  0.000000     0.0  \n",
       "2  0.001634     0.0  \n",
       "3  0.002922     0.0  \n",
       "4  0.001003     0.0  \n",
       "\n",
       "[5 rows x 514 columns]"
      ]
     },
     "execution_count": 137,
     "metadata": {},
     "output_type": "execute_result"
    }
   ],
   "source": [
    "X = X.todense()\n",
    "X = X / X.sum(axis=1) # counts to frequencies\n",
    "for i, word in enumerate(words):\n",
    "    column = X[:,i]\n",
    "    df['x_'+word] = column\n",
    "df.head()"
   ]
  },
  {
   "cell_type": "code",
   "execution_count": 138,
   "metadata": {},
   "outputs": [
    {
     "data": {
      "text/plain": [
       "log_cite_count      1.000000\n",
       "x_supra             0.184822\n",
       "x_claim             0.108516\n",
       "x_rule              0.092011\n",
       "x_district court    0.071815\n",
       "x_state             0.065456\n",
       "x_district          0.052595\n",
       "x_government       -0.033152\n",
       "x_statute          -0.102413\n",
       "x_congress         -0.162694\n",
       "x_act              -0.261580\n",
       "Name: log_cite_count, dtype: float64"
      ]
     },
     "execution_count": 138,
     "metadata": {},
     "output_type": "execute_result"
    }
   ],
   "source": [
    "# inspecting data\n",
    "import numpy as np\n",
    "features = ['x_'+x for x in words]\n",
    "cites_features = ['log_cite_count'] + features\n",
    "df2 = df[cites_features]\n",
    "corr_matrix = df2.corr()\n",
    "corr_matrix['log_cite_count'].sort_values(ascending=False)"
   ]
  },
  {
   "cell_type": "code",
   "execution_count": 16,
   "metadata": {},
   "outputs": [
    {
     "name": "stdout",
     "output_type": "stream",
     "text": [
      "[[<AxesSubplot:xlabel='log_cite_count', ylabel='log_cite_count'>\n",
      "  <AxesSubplot:xlabel='x_act', ylabel='log_cite_count'>\n",
      "  <AxesSubplot:xlabel='x_claim', ylabel='log_cite_count'>\n",
      "  <AxesSubplot:xlabel='x_congress', ylabel='log_cite_count'>]\n",
      " [<AxesSubplot:xlabel='log_cite_count', ylabel='x_act'>\n",
      "  <AxesSubplot:xlabel='x_act', ylabel='x_act'>\n",
      "  <AxesSubplot:xlabel='x_claim', ylabel='x_act'>\n",
      "  <AxesSubplot:xlabel='x_congress', ylabel='x_act'>]\n",
      " [<AxesSubplot:xlabel='log_cite_count', ylabel='x_claim'>\n",
      "  <AxesSubplot:xlabel='x_act', ylabel='x_claim'>\n",
      "  <AxesSubplot:xlabel='x_claim', ylabel='x_claim'>\n",
      "  <AxesSubplot:xlabel='x_congress', ylabel='x_claim'>]\n",
      " [<AxesSubplot:xlabel='log_cite_count', ylabel='x_congress'>\n",
      "  <AxesSubplot:xlabel='x_act', ylabel='x_congress'>\n",
      "  <AxesSubplot:xlabel='x_claim', ylabel='x_congress'>\n",
      "  <AxesSubplot:xlabel='x_congress', ylabel='x_congress'>]]\n"
     ]
    },
    {
     "data": {
      "image/png": "[encoded data removed]",
      "text/plain": [
       "<Figure size 432x288 with 16 Axes>"
      ]
     },
     "metadata": {
      "needs_background": "light"
     },
     "output_type": "display_data"
    }
   ],
   "source": [
    "from pandas.plotting import scatter_matrix\n",
    "scatter_matrix(df2.iloc[:,:4])"
   ]
  },
  {
   "cell_type": "code",
   "execution_count": 12,
   "metadata": {},
   "outputs": [
    {
     "data": {
      "text/plain": [
       "<AxesSubplot:xlabel='x_act', ylabel='log_cite_count'>"
      ]
     },
     "execution_count": 12,
     "metadata": {},
     "output_type": "execute_result"
    },
    {
     "data": {
      "image/png": "[encoded data removed]",
      "text/plain": [
       "<Figure size 432x288 with 1 Axes>"
      ]
     },
     "metadata": {
      "needs_background": "light"
     },
     "output_type": "display_data"
    }
   ],
   "source": [
    "df2.plot(kind='scatter', x='x_act', y='log_cite_count', alpha = 0.1)"
   ]
  },
  {
   "cell_type": "markdown",
   "metadata": {},
   "source": [
    "# Regression\n",
    "\n",
    "**Task:** predict opinions quality using vectorized word frequencies."
   ]
  },
  {
   "cell_type": "code",
   "execution_count": 17,
   "metadata": {},
   "outputs": [],
   "source": [
    "# create a test set \n",
    "from sklearn.model_selection import train_test_split\n",
    "train, test = train_test_split(df2, test_size=0.2)"
   ]
  },
  {
   "cell_type": "code",
   "execution_count": 18,
   "metadata": {},
   "outputs": [
    {
     "data": {
      "text/html": [
       "<div>\n",
       "<style scoped>\n",
       "    .dataframe tbody tr th:only-of-type {\n",
       "        vertical-align: middle;\n",
       "    }\n",
       "\n",
       "    .dataframe tbody tr th {\n",
       "        vertical-align: top;\n",
       "    }\n",
       "\n",
       "    .dataframe thead th {\n",
       "        text-align: right;\n",
       "    }\n",
       "</style>\n",
       "<table border=\"1\" class=\"dataframe\">\n",
       "  <thead>\n",
       "    <tr style=\"text-align: right;\">\n",
       "      <th></th>\n",
       "      <th>x_act</th>\n",
       "      <th>x_claim</th>\n",
       "      <th>x_congress</th>\n",
       "      <th>x_district</th>\n",
       "      <th>x_district court</th>\n",
       "      <th>x_government</th>\n",
       "      <th>x_rule</th>\n",
       "      <th>x_state</th>\n",
       "      <th>x_statute</th>\n",
       "      <th>x_supra</th>\n",
       "    </tr>\n",
       "  </thead>\n",
       "  <tbody>\n",
       "    <tr>\n",
       "      <th>596</th>\n",
       "      <td>0.084211</td>\n",
       "      <td>0.168421</td>\n",
       "      <td>0.178947</td>\n",
       "      <td>0.073684</td>\n",
       "      <td>0.052632</td>\n",
       "      <td>0.021053</td>\n",
       "      <td>0.021053</td>\n",
       "      <td>0.147368</td>\n",
       "      <td>0.115789</td>\n",
       "      <td>0.136842</td>\n",
       "    </tr>\n",
       "    <tr>\n",
       "      <th>90</th>\n",
       "      <td>0.012048</td>\n",
       "      <td>0.196787</td>\n",
       "      <td>0.000000</td>\n",
       "      <td>0.080321</td>\n",
       "      <td>0.064257</td>\n",
       "      <td>0.020080</td>\n",
       "      <td>0.076305</td>\n",
       "      <td>0.445783</td>\n",
       "      <td>0.000000</td>\n",
       "      <td>0.104418</td>\n",
       "    </tr>\n",
       "    <tr>\n",
       "      <th>734</th>\n",
       "      <td>0.222222</td>\n",
       "      <td>0.074074</td>\n",
       "      <td>0.027778</td>\n",
       "      <td>0.027778</td>\n",
       "      <td>0.027778</td>\n",
       "      <td>0.009259</td>\n",
       "      <td>0.462963</td>\n",
       "      <td>0.009259</td>\n",
       "      <td>0.064815</td>\n",
       "      <td>0.074074</td>\n",
       "    </tr>\n",
       "    <tr>\n",
       "      <th>694</th>\n",
       "      <td>0.166667</td>\n",
       "      <td>0.060606</td>\n",
       "      <td>0.151515</td>\n",
       "      <td>0.075758</td>\n",
       "      <td>0.060606</td>\n",
       "      <td>0.000000</td>\n",
       "      <td>0.121212</td>\n",
       "      <td>0.196970</td>\n",
       "      <td>0.075758</td>\n",
       "      <td>0.090909</td>\n",
       "    </tr>\n",
       "    <tr>\n",
       "      <th>517</th>\n",
       "      <td>0.011364</td>\n",
       "      <td>0.011364</td>\n",
       "      <td>0.000000</td>\n",
       "      <td>0.000000</td>\n",
       "      <td>0.000000</td>\n",
       "      <td>0.000000</td>\n",
       "      <td>0.125000</td>\n",
       "      <td>0.659091</td>\n",
       "      <td>0.034091</td>\n",
       "      <td>0.159091</td>\n",
       "    </tr>\n",
       "  </tbody>\n",
       "</table>\n",
       "</div>"
      ],
      "text/plain": [
       "        x_act   x_claim  x_congress  x_district  x_district court  \\\n",
       "596  0.084211  0.168421    0.178947    0.073684          0.052632   \n",
       "90   0.012048  0.196787    0.000000    0.080321          0.064257   \n",
       "734  0.222222  0.074074    0.027778    0.027778          0.027778   \n",
       "694  0.166667  0.060606    0.151515    0.075758          0.060606   \n",
       "517  0.011364  0.011364    0.000000    0.000000          0.000000   \n",
       "\n",
       "     x_government    x_rule   x_state  x_statute   x_supra  \n",
       "596      0.021053  0.021053  0.147368   0.115789  0.136842  \n",
       "90       0.020080  0.076305  0.445783   0.000000  0.104418  \n",
       "734      0.009259  0.462963  0.009259   0.064815  0.074074  \n",
       "694      0.000000  0.121212  0.196970   0.075758  0.090909  \n",
       "517      0.000000  0.125000  0.659091   0.034091  0.159091  "
      ]
     },
     "execution_count": 18,
     "metadata": {},
     "output_type": "execute_result"
    }
   ],
   "source": [
    "Xtrain = train[features]\n",
    "Ytrain = train['log_cite_count']\n",
    "Xtrain.head()"
   ]
  },
  {
   "cell_type": "code",
   "execution_count": 19,
   "metadata": {},
   "outputs": [
    {
     "data": {
      "text/plain": [
       "596    8.449771\n",
       "90     8.477620\n",
       "734    6.648985\n",
       "694    5.236442\n",
       "517    3.583519\n",
       "Name: log_cite_count, dtype: float64"
      ]
     },
     "execution_count": 19,
     "metadata": {},
     "output_type": "execute_result"
    }
   ],
   "source": [
    "Ytrain.head()"
   ]
  },
  {
   "cell_type": "code",
   "execution_count": 20,
   "metadata": {},
   "outputs": [
    {
     "data": {
      "text/plain": [
       "array([-2.78941967,  0.87813372, -0.76002051, -0.05941102,  1.46336726,\n",
       "       -0.59654151,  0.057288  , -0.23633569, -0.55910507,  2.6020445 ])"
      ]
     },
     "execution_count": 20,
     "metadata": {},
     "output_type": "execute_result"
    }
   ],
   "source": [
    "# our first machine learning model\n",
    "from sklearn.linear_model import LinearRegression\n",
    "lin_reg = LinearRegression()\n",
    "\n",
    "lin_reg.fit(Xtrain, Ytrain)\n",
    "lin_reg.coef_ "
   ]
  },
  {
   "cell_type": "code",
   "execution_count": 21,
   "metadata": {},
   "outputs": [
    {
     "data": {
      "text/plain": [
       "2.0767978258929314"
      ]
     },
     "execution_count": 21,
     "metadata": {},
     "output_type": "execute_result"
    }
   ],
   "source": [
    "# in-sample performance\n",
    "from sklearn.metrics import mean_squared_error\n",
    "Ytrain_pred = lin_reg.predict(Xtrain)        \n",
    "train_mse = mean_squared_error(Ytrain,Ytrain_pred)\n",
    "train_mse"
   ]
  },
  {
   "cell_type": "code",
   "execution_count": 22,
   "metadata": {},
   "outputs": [
    {
     "data": {
      "text/plain": [
       "1.998270159310056"
      ]
     },
     "execution_count": 22,
     "metadata": {},
     "output_type": "execute_result"
    }
   ],
   "source": [
    "# out-of-sample performance\n",
    "Xtest = test[features]\n",
    "Ytest = test['log_cite_count']\n",
    "Ytest_pred = lin_reg.predict(Xtest)        \n",
    "test_mse = mean_squared_error(Ytest,Ytest_pred)\n",
    "test_mse"
   ]
  },
  {
   "cell_type": "code",
   "execution_count": 25,
   "metadata": {},
   "outputs": [
    {
     "data": {
      "text/plain": [
       "<seaborn.axisgrid.JointGrid at 0x7f9d1c234250>"
      ]
     },
     "execution_count": 25,
     "metadata": {},
     "output_type": "execute_result"
    },
    {
     "data": {
      "image/png": "[encoded data removed]",
      "text/plain": [
       "<Figure size 432x432 with 3 Axes>"
      ]
     },
     "metadata": {
      "needs_background": "light"
     },
     "output_type": "display_data"
    }
   ],
   "source": [
    "import seaborn as sns\n",
    "\n",
    "p = sns.jointplot(x=Ytest, y=Ytest_pred, kind='reg')\n",
    "p.set_axis_labels('Log Citations', 'Predicted Log Citations', fontsize=10)"
   ]
  },
  {
   "cell_type": "markdown",
   "metadata": {},
   "source": [
    "## Regularization"
   ]
  },
  {
   "cell_type": "code",
   "execution_count": 73,
   "metadata": {},
   "outputs": [
    {
     "data": {
      "text/plain": [
       "0.4655962847119393"
      ]
     },
     "execution_count": 73,
     "metadata": {},
     "output_type": "execute_result"
    }
   ],
   "source": [
    "from sklearn.model_selection import cross_val_score\n",
    "import numpy as np\n",
    "from sklearn.linear_model import LinearRegression\n",
    "\n",
    "m = 100\n",
    "x = 6 * np.random.rand(m,1) - 3\n",
    "y = 0.5 * x ** 2 + x + 2 + np.random.randn(m,1)\n",
    "y = y.ravel()\n",
    "\n",
    "from sklearn.preprocessing import PolynomialFeatures\n",
    "poly_2 = PolynomialFeatures(degree=2) # also adds interactions\n",
    "X_poly_2 = poly_2.fit_transform(x)\n",
    "\n",
    "\n",
    "poly_300 = PolynomialFeatures(degree=300) \n",
    "X_poly_300 = poly_300.fit_transform(x)\n",
    "\n",
    "\n",
    "lin_reg = LinearRegression()\n",
    "cross_val_score(lin_reg, x, y, cv=3, n_jobs=3).mean()"
   ]
  },
  {
   "cell_type": "code",
   "execution_count": 74,
   "metadata": {},
   "outputs": [
    {
     "data": {
      "text/plain": [
       "0.7607997908272267"
      ]
     },
     "execution_count": 74,
     "metadata": {},
     "output_type": "execute_result"
    }
   ],
   "source": [
    "cross_val_score(lin_reg, X_poly_2, y, cv=3, n_jobs=3).mean()"
   ]
  },
  {
   "cell_type": "code",
   "execution_count": 75,
   "metadata": {},
   "outputs": [
    {
     "data": {
      "text/plain": [
       "-1.1294430595448943e+19"
      ]
     },
     "execution_count": 75,
     "metadata": {},
     "output_type": "execute_result"
    }
   ],
   "source": [
    "cross_val_score(lin_reg, X_poly_300, y, cv=3, n_jobs=3).mean()"
   ]
  },
  {
   "cell_type": "code",
   "execution_count": 77,
   "metadata": {},
   "outputs": [
    {
     "data": {
      "text/plain": [
       "0.3972659350652244"
      ]
     },
     "execution_count": 77,
     "metadata": {},
     "output_type": "execute_result"
    }
   ],
   "source": [
    "# Lasso\n",
    "from sklearn.linear_model import Lasso\n",
    "lasso_reg = Lasso(alpha=0.1)\n",
    "cross_val_score(lasso_reg,x,y).mean()"
   ]
  },
  {
   "cell_type": "code",
   "execution_count": 78,
   "metadata": {},
   "outputs": [
    {
     "data": {
      "text/plain": [
       "0.5790184655854054"
      ]
     },
     "execution_count": 78,
     "metadata": {},
     "output_type": "execute_result"
    }
   ],
   "source": [
    "# Lasso\n",
    "from sklearn.linear_model import Lasso\n",
    "lasso_reg = Lasso(alpha=0.1)\n",
    "cross_val_score(lasso_reg,X_poly_300,y).mean()"
   ]
  },
  {
   "cell_type": "code",
   "execution_count": 82,
   "metadata": {},
   "outputs": [
    {
     "data": {
      "text/plain": [
       "-3.0187417830411905"
      ]
     },
     "execution_count": 82,
     "metadata": {},
     "output_type": "execute_result"
    }
   ],
   "source": [
    "# Ridge\n",
    "from sklearn.linear_model import Ridge, SGDRegressor\n",
    "ridge_reg = Ridge(alpha=1)\n",
    "cross_val_score(ridge_reg,X_poly_300,y).mean()"
   ]
  },
  {
   "cell_type": "code",
   "execution_count": 81,
   "metadata": {},
   "outputs": [
    {
     "data": {
      "text/plain": [
       "(1.0, 0.0001)"
      ]
     },
     "execution_count": 81,
     "metadata": {},
     "output_type": "execute_result"
    }
   ],
   "source": [
    "###\n",
    "# Elastic Net\n",
    "###\n",
    "from sklearn.linear_model import ElasticNetCV\n",
    "enet_reg = ElasticNetCV(alphas=[.0001, .001, .01,.1,1], \n",
    "                        l1_ratio=[.0001, .001, .01,.1,.5,.9, .99, 1])\n",
    "enet_reg.fit(X_poly_300,y)\n",
    "enet_reg.alpha_, enet_reg.l1_ratio_"
   ]
  },
  {
   "cell_type": "code",
   "execution_count": 83,
   "metadata": {},
   "outputs": [
    {
     "data": {
      "text/plain": [
       "0.5356836724483605"
      ]
     },
     "execution_count": 83,
     "metadata": {},
     "output_type": "execute_result"
    }
   ],
   "source": [
    "cross_val_score(enet_reg,X_poly_300,y).mean()"
   ]
  },
  {
   "cell_type": "code",
   "execution_count": 85,
   "metadata": {},
   "outputs": [
    {
     "name": "stdout",
     "output_type": "stream",
     "text": [
      "10 non-zero of 10 coefficients.\n"
     ]
    },
    {
     "data": {
      "text/plain": [
       "0.08481088152016729"
      ]
     },
     "execution_count": 85,
     "metadata": {},
     "output_type": "execute_result"
    }
   ],
   "source": [
    "from sklearn.preprocessing import StandardScaler\n",
    "scaler = StandardScaler()\n",
    "Xscale = scaler.fit_transform(df2[features])\n",
    "\n",
    "Xtrain, Xtest, ytrain, ytest = train_test_split(Xscale, df2['log_cite_count'], test_size=0.2)\n",
    "\n",
    "from sklearn.linear_model import ElasticNet\n",
    "enet_reg = ElasticNet(alpha=.1, l1_ratio=.0001)\n",
    "enet_reg.fit(Xtrain,ytrain)\n",
    "nonzero = enet_reg.coef_ != 0\n",
    "print(nonzero.sum(),'non-zero of',len(enet_reg.coef_),'coefficients.')\n",
    "X_enet = Xscale[:,nonzero]\n",
    "\n",
    "cross_val_score(enet_reg,X_enet,df2['log_cite_count'],n_jobs=-1).mean()"
   ]
  },
  {
   "cell_type": "markdown",
   "metadata": {},
   "source": [
    "# Classification\n",
    "\n",
    "**Task:** Predict party affiliation with 500 vectorized word frequencies."
   ]
  },
  {
   "cell_type": "code",
   "execution_count": 67,
   "metadata": {},
   "outputs": [
    {
     "data": {
      "text/html": [
       "<div>\n",
       "<style scoped>\n",
       "    .dataframe tbody tr th:only-of-type {\n",
       "        vertical-align: middle;\n",
       "    }\n",
       "\n",
       "    .dataframe tbody tr th {\n",
       "        vertical-align: top;\n",
       "    }\n",
       "\n",
       "    .dataframe thead th {\n",
       "        text-align: right;\n",
       "    }\n",
       "</style>\n",
       "<table border=\"1\" class=\"dataframe\">\n",
       "  <thead>\n",
       "    <tr style=\"text-align: right;\">\n",
       "      <th></th>\n",
       "      <th>x_republican</th>\n",
       "      <th>x_000</th>\n",
       "      <th>x_10</th>\n",
       "      <th>x_100</th>\n",
       "      <th>x_101</th>\n",
       "      <th>x_102</th>\n",
       "      <th>x_103</th>\n",
       "      <th>x_104</th>\n",
       "      <th>x_104 ct</th>\n",
       "      <th>x_105</th>\n",
       "      <th>...</th>\n",
       "      <th>x_violated</th>\n",
       "      <th>x_violation</th>\n",
       "      <th>x_water</th>\n",
       "      <th>x_way</th>\n",
       "      <th>x_west</th>\n",
       "      <th>x_words</th>\n",
       "      <th>x_work</th>\n",
       "      <th>x_year</th>\n",
       "      <th>x_years</th>\n",
       "      <th>x_york</th>\n",
       "    </tr>\n",
       "  </thead>\n",
       "  <tbody>\n",
       "    <tr>\n",
       "      <th>0</th>\n",
       "      <td>0.0</td>\n",
       "      <td>0.000000</td>\n",
       "      <td>0.000000</td>\n",
       "      <td>0.000000</td>\n",
       "      <td>0.001709</td>\n",
       "      <td>0.001709</td>\n",
       "      <td>0.001709</td>\n",
       "      <td>0.001709</td>\n",
       "      <td>0.001709</td>\n",
       "      <td>0.001709</td>\n",
       "      <td>...</td>\n",
       "      <td>0.000000</td>\n",
       "      <td>0.003419</td>\n",
       "      <td>0.000000</td>\n",
       "      <td>0.001709</td>\n",
       "      <td>0.000000</td>\n",
       "      <td>0.011966</td>\n",
       "      <td>0.000000</td>\n",
       "      <td>0.017094</td>\n",
       "      <td>0.000000</td>\n",
       "      <td>0.0</td>\n",
       "    </tr>\n",
       "    <tr>\n",
       "      <th>1</th>\n",
       "      <td>1.0</td>\n",
       "      <td>0.000000</td>\n",
       "      <td>0.002639</td>\n",
       "      <td>0.000000</td>\n",
       "      <td>0.002639</td>\n",
       "      <td>0.000000</td>\n",
       "      <td>0.000000</td>\n",
       "      <td>0.005277</td>\n",
       "      <td>0.002639</td>\n",
       "      <td>0.000000</td>\n",
       "      <td>...</td>\n",
       "      <td>0.002639</td>\n",
       "      <td>0.000000</td>\n",
       "      <td>0.000000</td>\n",
       "      <td>0.000000</td>\n",
       "      <td>0.005277</td>\n",
       "      <td>0.002639</td>\n",
       "      <td>0.000000</td>\n",
       "      <td>0.000000</td>\n",
       "      <td>0.000000</td>\n",
       "      <td>0.0</td>\n",
       "    </tr>\n",
       "    <tr>\n",
       "      <th>2</th>\n",
       "      <td>1.0</td>\n",
       "      <td>0.000000</td>\n",
       "      <td>0.000000</td>\n",
       "      <td>0.000000</td>\n",
       "      <td>0.000000</td>\n",
       "      <td>0.014706</td>\n",
       "      <td>0.000000</td>\n",
       "      <td>0.000000</td>\n",
       "      <td>0.000000</td>\n",
       "      <td>0.000000</td>\n",
       "      <td>...</td>\n",
       "      <td>0.000000</td>\n",
       "      <td>0.001634</td>\n",
       "      <td>0.000000</td>\n",
       "      <td>0.001634</td>\n",
       "      <td>0.000000</td>\n",
       "      <td>0.000000</td>\n",
       "      <td>0.000000</td>\n",
       "      <td>0.013072</td>\n",
       "      <td>0.001634</td>\n",
       "      <td>0.0</td>\n",
       "    </tr>\n",
       "    <tr>\n",
       "      <th>3</th>\n",
       "      <td>1.0</td>\n",
       "      <td>0.000000</td>\n",
       "      <td>0.003652</td>\n",
       "      <td>0.001461</td>\n",
       "      <td>0.000000</td>\n",
       "      <td>0.000000</td>\n",
       "      <td>0.000730</td>\n",
       "      <td>0.000000</td>\n",
       "      <td>0.000000</td>\n",
       "      <td>0.006574</td>\n",
       "      <td>...</td>\n",
       "      <td>0.000000</td>\n",
       "      <td>0.000000</td>\n",
       "      <td>0.013879</td>\n",
       "      <td>0.002922</td>\n",
       "      <td>0.000000</td>\n",
       "      <td>0.000000</td>\n",
       "      <td>0.000000</td>\n",
       "      <td>0.000730</td>\n",
       "      <td>0.002922</td>\n",
       "      <td>0.0</td>\n",
       "    </tr>\n",
       "    <tr>\n",
       "      <th>4</th>\n",
       "      <td>1.0</td>\n",
       "      <td>0.001003</td>\n",
       "      <td>0.002006</td>\n",
       "      <td>0.001003</td>\n",
       "      <td>0.000000</td>\n",
       "      <td>0.000000</td>\n",
       "      <td>0.004012</td>\n",
       "      <td>0.000000</td>\n",
       "      <td>0.000000</td>\n",
       "      <td>0.001003</td>\n",
       "      <td>...</td>\n",
       "      <td>0.002006</td>\n",
       "      <td>0.002006</td>\n",
       "      <td>0.000000</td>\n",
       "      <td>0.000000</td>\n",
       "      <td>0.000000</td>\n",
       "      <td>0.000000</td>\n",
       "      <td>0.001003</td>\n",
       "      <td>0.003009</td>\n",
       "      <td>0.001003</td>\n",
       "      <td>0.0</td>\n",
       "    </tr>\n",
       "  </tbody>\n",
       "</table>\n",
       "<p>5 rows × 501 columns</p>\n",
       "</div>"
      ],
      "text/plain": [
       "   x_republican     x_000      x_10     x_100     x_101     x_102     x_103  \\\n",
       "0           0.0  0.000000  0.000000  0.000000  0.001709  0.001709  0.001709   \n",
       "1           1.0  0.000000  0.002639  0.000000  0.002639  0.000000  0.000000   \n",
       "2           1.0  0.000000  0.000000  0.000000  0.000000  0.014706  0.000000   \n",
       "3           1.0  0.000000  0.003652  0.001461  0.000000  0.000000  0.000730   \n",
       "4           1.0  0.001003  0.002006  0.001003  0.000000  0.000000  0.004012   \n",
       "\n",
       "      x_104  x_104 ct     x_105  ...  x_violated  x_violation   x_water  \\\n",
       "0  0.001709  0.001709  0.001709  ...    0.000000     0.003419  0.000000   \n",
       "1  0.005277  0.002639  0.000000  ...    0.002639     0.000000  0.000000   \n",
       "2  0.000000  0.000000  0.000000  ...    0.000000     0.001634  0.000000   \n",
       "3  0.000000  0.000000  0.006574  ...    0.000000     0.000000  0.013879   \n",
       "4  0.000000  0.000000  0.001003  ...    0.002006     0.002006  0.000000   \n",
       "\n",
       "      x_way    x_west   x_words    x_work    x_year   x_years  x_york  \n",
       "0  0.001709  0.000000  0.011966  0.000000  0.017094  0.000000     0.0  \n",
       "1  0.000000  0.005277  0.002639  0.000000  0.000000  0.000000     0.0  \n",
       "2  0.001634  0.000000  0.000000  0.000000  0.013072  0.001634     0.0  \n",
       "3  0.002922  0.000000  0.000000  0.000000  0.000730  0.002922     0.0  \n",
       "4  0.000000  0.000000  0.000000  0.001003  0.003009  0.001003     0.0  \n",
       "\n",
       "[5 rows x 501 columns]"
      ]
     },
     "execution_count": 67,
     "metadata": {},
     "output_type": "execute_result"
    }
   ],
   "source": [
    "# Make a small data set\n",
    "df = pd.read_pickle('sc_cases_cleaned.pkl',compression='gzip')\n",
    "df=df.reset_index(drop=True)\n",
    "\n",
    "from sklearn.feature_extraction.text import CountVectorizer\n",
    "vectorizer500 = CountVectorizer(min_df=0.01, # at min 1% of docs\n",
    "                        max_df=.9,  \n",
    "                        max_features=500,\n",
    "                        stop_words='english',\n",
    "                        ngram_range=(1,3))\n",
    "X500 = vectorizer500.fit_transform(df['opinion_text']).todense()\n",
    "X500 = X500 / X500.sum(axis=1) # counts to frequencies\n",
    "vocab = vectorizer500.get_feature_names()\n",
    "for i, word in enumerate(vectorizer500.get_feature_names()):\n",
    "    column = X500[:,i]\n",
    "    df['x_'+word] = column\n",
    "\n",
    "\n",
    "features500 = [x for x in df.columns if x.startswith('x_') and x!=\"x_republican\"]\n",
    "keepcols = ['x_republican'] + features500\n",
    "df1 = df[keepcols]\n",
    "y = df1['x_republican']\n",
    "# set up train/test split\n",
    "from sklearn.model_selection import train_test_split\n",
    "train, test = train_test_split(df1, test_size=0.2)\n",
    "features500 = [x for x in df1.columns if x.startswith('x_') and x!=\"x_republican\"]\n",
    "df1.head()"
   ]
  },
  {
   "cell_type": "code",
   "execution_count": 103,
   "metadata": {
    "scrolled": true
   },
   "outputs": [
    {
     "data": {
      "text/plain": [
       "0.7662337662337663"
      ]
     },
     "execution_count": 103,
     "metadata": {},
     "output_type": "execute_result"
    }
   ],
   "source": [
    "# Binary Classifier\n",
    "from sklearn.linear_model import SGDClassifier\n",
    "sgd_clf = SGDClassifier(max_iter=10) \n",
    "sgd_clf.fit(train[features500], train['x_republican'])\n",
    "sgd_clf.score(test[features500],test['x_republican']) # accuracy on held-out data"
   ]
  },
  {
   "cell_type": "code",
   "execution_count": 104,
   "metadata": {
    "scrolled": true
   },
   "outputs": [
    {
     "data": {
      "text/plain": [
       "0.7734375"
      ]
     },
     "execution_count": 104,
     "metadata": {},
     "output_type": "execute_result"
    }
   ],
   "source": [
    "# compare to picking largest category\n",
    "df1['x_republican'].mean()"
   ]
  },
  {
   "cell_type": "code",
   "execution_count": 105,
   "metadata": {},
   "outputs": [],
   "source": [
    "from multiprocessing import cpu_count\n",
    "nthreads = cpu_count() - 1\n",
    "\n",
    "# Form cross-validated prdictions for all data points\n",
    "from sklearn.model_selection import cross_val_predict\n",
    "df1['x_republican_sgd'] = cross_val_predict(sgd_clf,\n",
    "                                         df1[features500],\n",
    "                                         df1['x_republican'],\n",
    "                                         cv=3,\n",
    "                                         n_jobs=nthreads)"
   ]
  },
  {
   "cell_type": "markdown",
   "metadata": {},
   "source": [
    "After applying a classifier to a data set with known labels `0` and `1`:\n",
    "\n",
    "<div class=\"alert alert-block alert-warning\">\n",
    "\n",
    "<div style=\"font-size: 150%;\"><i class=\"fa fa-info-circle\"></i>&nbsp;Definition</div>\n",
    "<ul>\n",
    "\n",
    "<li><strong>TP (true positives)</strong>: labels which were predicted as <code>1</code> and actually are <code>1</code>. <br/><br/>\n",
    "\n",
    "\n",
    "<li><strong>TN (true negatives)</strong>: labels which were predicted as <code>0</code> and actually are <code>0</code>.<br/><br/>\n",
    "\n",
    "\n",
    "<li><strong>FP (false positives)</strong>: labels which were predicted as <code>1</code> and actually are <code>0</code>.<br/><br/>\n",
    "\n",
    "\n",
    "<li><strong>FN (false negatives)</strong>: labels which were predicted as <code>0</code> and actually are <code>1</code>.<br/><br/>\n",
    "\n",
    "</ul>\n",
    "\n",
    "To memorize this: \n",
    "\n",
    "<ul>\n",
    "\n",
    "<li>The second word \"positives\"/\"negatives\" refers to the prediction computed by the classifier.\n",
    "<li>The first word \"true\"/\"false\" expresses if the classification was correct or not.\n",
    "\n",
    "</ul>\n",
    "\n",
    "This is the so called <strong>Confusion Matrix</strong>:\n",
    "\n",
    "<table style=\"border: 1px; font-family: 'Source Code Pro', monocco, Consolas, monocco, monospace;\n",
    "              font-size:110%;\">\n",
    "    <tbody >\n",
    "        <tr>\n",
    "            <td style=\"padding: 10px; background:#f8f8f8;\"> </td>\n",
    "            <td style=\"padding: 10px; background:#f8f8f8;\">Predicted N</td>\n",
    "            <td style=\"padding: 10px; background:#f8f8f8;\">Predicted P</td>\n",
    "        </tr>\n",
    "        <tr>\n",
    "            <td style=\"padding: 10px; background:#f8f8f8;\">Actual N</td>\n",
    "            <td style=\"padding: 10px; background:#fcfcfc; text-align:center; font-weight: bold\">TN         </td>\n",
    "            <td style=\"padding: 10px; background:#fcfcfc; text-align:center; font-weight: bold\">FP         </td>\n",
    "        </tr>\n",
    "        <tr>\n",
    "            <td style=\"padding: 10px; background:#f8f8f8;\">Actual P</td>\n",
    "            <td style=\"padding: 10px; background:#fcfcfc; text-align:center; font-weight: bold\">FN         </td>\n",
    "            <td style=\"padding: 10px; background:#fcfcfc; text-align:center; font-weight: bold\">TP         </td>\n",
    "        </tr>\n",
    "    </tbody>\n",
    "</table>\n",
    "\n",
    "</div>\n",
    "\n",
    "\n",
    "\n",
    "- So the total number of predictions can be expressed as `TP` + `FP` + `FN` + `TN`.\n",
    "\n",
    "\n",
    "- The number of correct predictions is `TP` + `TN`.\n",
    "\n",
    "\n",
    "- `TP` + `FN` is the number of positive examples in our data set, \n",
    "\n",
    "\n",
    "- `FP` + `TN` is the number of negative examples.\n",
    "\n",
    "- **precision** is computed as <code>TP / (TP + FP)</code>.\n",
    "\n",
    "\n",
    "- **recall** is computed as <code>TP / (TP + FN)</code>.\n",
    "\n",
    "- The **F1 score** is computed as <code>F1 = 2 * (precision * recall) / (precision + recall)</code>.\n",
    "\n",
    "\n",
    "<div class=\"alert alert-block alert-warning\">\n",
    "<div style=\"font-size: 150%;\"><i class=\"fa fa-info-circle\"></i>&nbsp;Definition</div>\n",
    "\n",
    "This allows us to define <strong>accuracy</strong> as (<code>TP</code> + <code>TN</code>) / (<code>TP</code> + <code>FP</code> + <code>FN</code> + <code>TN</code>).\n",
    "\n",
    "</div>"
   ]
  },
  {
   "cell_type": "code",
   "execution_count": 106,
   "metadata": {},
   "outputs": [
    {
     "data": {
      "text/plain": [
       "<sklearn.metrics._plot.confusion_matrix.ConfusionMatrixDisplay at 0x7f9cf59f02e0>"
      ]
     },
     "execution_count": 106,
     "metadata": {},
     "output_type": "execute_result"
    },
    {
     "data": {
      "image/png": "[encoded data removed]",
      "text/plain": [
       "<Figure size 432x288 with 2 Axes>"
      ]
     },
     "metadata": {
      "needs_background": "light"
     },
     "output_type": "display_data"
    }
   ],
   "source": [
    "# Construct confusion matrix\n",
    "from sklearn.metrics import confusion_matrix, plot_confusion_matrix\n",
    "#confusion_matrix(df1['x_republican'], df1['x_republican_sgd'])\n",
    "plot_confusion_matrix(sgd_clf, test[features500],test['x_republican'])"
   ]
  },
  {
   "cell_type": "code",
   "execution_count": 107,
   "metadata": {},
   "outputs": [
    {
     "name": "stdout",
     "output_type": "stream",
     "text": [
      "Precision: 0.7734375\n",
      "Recall: 0.6666666666666666\n"
     ]
    }
   ],
   "source": [
    "# Precision and Recall\n",
    "from sklearn.metrics import precision_score, recall_score\n",
    "print('Precision:',precision_score(df1['x_republican'], df1['x_republican_sgd']))\n",
    "print('Recall:',recall_score(df1['x_republican'], df1['x_republican_sgd']))"
   ]
  },
  {
   "cell_type": "code",
   "execution_count": 108,
   "metadata": {},
   "outputs": [
    {
     "data": {
      "text/plain": [
       "0.7160940325497288"
      ]
     },
     "execution_count": 108,
     "metadata": {},
     "output_type": "execute_result"
    }
   ],
   "source": [
    "#F1 score\n",
    "from sklearn.metrics import f1_score\n",
    "f1_score(df1['x_republican'],df1['x_republican_sgd'])"
   ]
  },
  {
   "cell_type": "markdown",
   "metadata": {},
   "source": [
    "### Precision/Recall Trade Off"
   ]
  },
  {
   "cell_type": "code",
   "execution_count": 109,
   "metadata": {},
   "outputs": [
    {
     "data": {
      "text/plain": [
       "(array([  3.,  27.,  96., 220., 236., 140.,  34.,   9.,   1.,   2.]),\n",
       " array([0.31413523, 0.50904115, 0.70394707, 0.89885299, 1.09375891,\n",
       "        1.28866483, 1.48357075, 1.67847668, 1.8733826 , 2.06828852,\n",
       "        2.26319444]),\n",
       " <BarContainer object of 10 artists>)"
      ]
     },
     "execution_count": 109,
     "metadata": {},
     "output_type": "execute_result"
    },
    {
     "data": {
      "image/png": "[encoded data removed]",
      "text/plain": [
       "<Figure size 432x288 with 1 Axes>"
      ]
     },
     "metadata": {
      "needs_background": "light"
     },
     "output_type": "display_data"
    }
   ],
   "source": [
    "# scores used by SGDClassifier\n",
    "import matplotlib.pyplot as plt\n",
    "\n",
    "y_scores = sgd_clf.decision_function(df[features500])\n",
    "plt.hist(y_scores) # histogram of scores"
   ]
  },
  {
   "cell_type": "code",
   "execution_count": 110,
   "metadata": {},
   "outputs": [
    {
     "data": {
      "text/plain": [
       "1.0"
      ]
     },
     "execution_count": 110,
     "metadata": {},
     "output_type": "execute_result"
    }
   ],
   "source": [
    "# prediction using default threshold ... \n",
    "threshold = 0\n",
    "(y_scores > threshold).mean()"
   ]
  },
  {
   "cell_type": "code",
   "execution_count": 111,
   "metadata": {},
   "outputs": [
    {
     "data": {
      "text/plain": [
       "1.0"
      ]
     },
     "execution_count": 111,
     "metadata": {},
     "output_type": "execute_result"
    }
   ],
   "source": [
    "# ... gives default model prediction\n",
    "ypred = sgd_clf.predict(df[features500])\n",
    "ypred.mean()"
   ]
  },
  {
   "cell_type": "code",
   "execution_count": 112,
   "metadata": {},
   "outputs": [
    {
     "data": {
      "text/plain": [
       "0.7278645833333334"
      ]
     },
     "execution_count": 112,
     "metadata": {},
     "output_type": "execute_result"
    }
   ],
   "source": [
    "# increasing threshold means more zeros are predicted\n",
    "threshold = 1\n",
    "(y_scores > threshold).mean()"
   ]
  },
  {
   "cell_type": "code",
   "execution_count": 113,
   "metadata": {},
   "outputs": [
    {
     "data": {
      "text/plain": [
       "<matplotlib.legend.Legend at 0x7f9d1347adc0>"
      ]
     },
     "execution_count": 113,
     "metadata": {},
     "output_type": "execute_result"
    },
    {
     "data": {
      "image/png": "[encoded data removed]",
      "text/plain": [
       "<Figure size 432x288 with 1 Axes>"
      ]
     },
     "metadata": {
      "needs_background": "light"
     },
     "output_type": "display_data"
    }
   ],
   "source": [
    "# Visualizing the precision/recall tradeoff\n",
    "y_scores = cross_val_predict(sgd_clf,\n",
    "                             df1[features500],\n",
    "                             df1['x_republican'],\n",
    "                             cv=3,\n",
    "                             method='decision_function',\n",
    "                             n_jobs=3)\n",
    "\n",
    "from sklearn.metrics import precision_recall_curve\n",
    "precisions, recalls, thresholds = precision_recall_curve(df1['x_republican'], y_scores)\n",
    "\n",
    "import matplotlib.pyplot as plt\n",
    "plt.plot(thresholds, precisions[:-1], label=\"Precision\")\n",
    "plt.plot(thresholds, recalls[:-1], label=\"Recall\")\n",
    "plt.xlabel('Threshold')\n",
    "plt.legend()"
   ]
  },
  {
   "cell_type": "code",
   "execution_count": 114,
   "metadata": {},
   "outputs": [
    {
     "data": {
      "text/plain": [
       "Text(0, 0.5, 'Precision')"
      ]
     },
     "execution_count": 114,
     "metadata": {},
     "output_type": "execute_result"
    },
    {
     "data": {
      "image/png": "[encoded data removed]",
      "text/plain": [
       "<Figure size 432x288 with 1 Axes>"
      ]
     },
     "metadata": {
      "needs_background": "light"
     },
     "output_type": "display_data"
    }
   ],
   "source": [
    "# Plot precision vs recall\n",
    "plt.step(recalls, precisions)\n",
    "plt.xlabel('Recall')\n",
    "plt.ylabel('Precision')"
   ]
  },
  {
   "cell_type": "code",
   "execution_count": 115,
   "metadata": {},
   "outputs": [
    {
     "name": "stdout",
     "output_type": "stream",
     "text": [
      "Precision for Low Threshold: 0.7764705882352941\n",
      "Precision for High Threshold: 0.8868421052631579\n",
      "Recall for Low Threshold: 1.0\n",
      "Recall for High Threshold: 0.5673400673400674\n"
     ]
    }
   ],
   "source": [
    "# Assessing other scoring thresholds\n",
    "ypred_lower = y_scores > -1\n",
    "ypred_higher = y_scores > 1\n",
    "\n",
    "print('Precision for Low Threshold:',precision_score(y, ypred_lower))\n",
    "print('Precision for High Threshold:',precision_score(y, ypred_higher))\n",
    "print('Recall for Low Threshold:',recall_score(y, ypred_lower))\n",
    "print('Recall for High Threshold:',recall_score(y, ypred_higher))"
   ]
  },
  {
   "cell_type": "code",
   "execution_count": 116,
   "metadata": {},
   "outputs": [
    {
     "data": {
      "text/plain": [
       "Text(0, 0.5, 'True Positive Rate')"
      ]
     },
     "execution_count": 116,
     "metadata": {},
     "output_type": "execute_result"
    },
    {
     "data": {
      "image/png": "[encoded data removed]",
      "text/plain": [
       "<Figure size 432x288 with 1 Axes>"
      ]
     },
     "metadata": {
      "needs_background": "light"
     },
     "output_type": "display_data"
    }
   ],
   "source": [
    "# ROC Curve\n",
    "from sklearn.metrics import roc_curve\n",
    "fpr, tpr, thresholds = roc_curve(y, y_scores)\n",
    "plt.plot(fpr, tpr)\n",
    "plt.plot([0,1],[0,1],'k--')\n",
    "plt.xlabel('False Positive Rate')\n",
    "plt.ylabel('True Positive Rate')"
   ]
  },
  {
   "cell_type": "code",
   "execution_count": 117,
   "metadata": {},
   "outputs": [
    {
     "data": {
      "text/plain": [
       "0.6875169317698053"
      ]
     },
     "execution_count": 117,
     "metadata": {},
     "output_type": "execute_result"
    }
   ],
   "source": [
    "# AUC\n",
    "from sklearn.metrics import roc_auc_score\n",
    "roc_auc_score(y, y_scores)"
   ]
  },
  {
   "cell_type": "code",
   "execution_count": 118,
   "metadata": {},
   "outputs": [
    {
     "data": {
      "text/plain": [
       "<matplotlib.legend.Legend at 0x7f9d08bff2e0>"
      ]
     },
     "execution_count": 118,
     "metadata": {},
     "output_type": "execute_result"
    },
    {
     "data": {
      "image/png": "[encoded data removed]",
      "text/plain": [
       "<Figure size 432x288 with 1 Axes>"
      ]
     },
     "metadata": {
      "needs_background": "light"
     },
     "output_type": "display_data"
    }
   ],
   "source": [
    "# Random Forests and predict_proba()\n",
    "from sklearn.ensemble import RandomForestClassifier\n",
    "rfc = RandomForestClassifier()\n",
    "y_probas_rfc = cross_val_predict(rfc,\n",
    "                                 X500,\n",
    "                                 y,\n",
    "                                 cv=3,\n",
    "                                 method='predict_proba',\n",
    "                                 n_jobs=3)\n",
    "\n",
    "y_scores_rfc = y_probas_rfc[:,1]\n",
    "fpr_rfc, tpr_rfc, thresholds_rfc = roc_curve(y,y_scores_rfc) \n",
    "\n",
    "# compare precision/recall tradeoff for SGD and RF classifiers\n",
    "plt.plot(fpr, tpr, label=\"SGD\")\n",
    "plt.plot(fpr_rfc, tpr_rfc, label=\"RF\")\n",
    "plt.legend()"
   ]
  },
  {
   "cell_type": "code",
   "execution_count": 119,
   "metadata": {},
   "outputs": [
    {
     "data": {
      "text/plain": [
       "0.8946698788652813"
      ]
     },
     "execution_count": 119,
     "metadata": {},
     "output_type": "execute_result"
    }
   ],
   "source": [
    "roc_auc_score(y,y_scores_rfc)"
   ]
  },
  {
   "cell_type": "markdown",
   "metadata": {},
   "source": [
    "## Multinomial Classification\n",
    "\n",
    "**Task:** Predict authorship using word frequencies"
   ]
  },
  {
   "cell_type": "code",
   "execution_count": 128,
   "metadata": {},
   "outputs": [
    {
     "name": "stdout",
     "output_type": "stream",
     "text": [
      "0.12760416666666666\n"
     ]
    },
    {
     "data": {
      "text/plain": [
       "[('GINSBURG', 'GINSBURG'),\n",
       " ('STEVENS', 'STEVENS'),\n",
       " (\"O'CONNOR\", 'KENNEDY'),\n",
       " ('KENNEDY', 'SOUTER'),\n",
       " ('KENNEDY', 'KENNEDY'),\n",
       " ('SOUTER', 'SOUTER'),\n",
       " ('BREYER', 'BREYER'),\n",
       " ('GINSBURG', 'THOMAS')]"
      ]
     },
     "execution_count": 128,
     "metadata": {},
     "output_type": "execute_result"
    }
   ],
   "source": [
    "sgd_clf = SGDClassifier(max_iter=10) \n",
    "\n",
    "author = df['authorship']\n",
    "authpred = cross_val_predict(sgd_clf,\n",
    "                              X500,\n",
    "                              author,\n",
    "                              cv=7)\n",
    "print((authpred == author).mean())\n",
    "list(zip(author[:8],authpred[:8]))"
   ]
  },
  {
   "cell_type": "code",
   "execution_count": 129,
   "metadata": {},
   "outputs": [
    {
     "data": {
      "image/png": "[encoded data removed]",
      "text/plain": [
       "<Figure size 288x288 with 1 Axes>"
      ]
     },
     "metadata": {
      "needs_background": "light"
     },
     "output_type": "display_data"
    }
   ],
   "source": [
    "# Multi-class confusion matrix\n",
    "conf_mx = confusion_matrix(author,authpred)\n",
    "conf_mx\n",
    "plt.matshow(conf_mx)\n",
    "plt.show()"
   ]
  },
  {
   "cell_type": "code",
   "execution_count": 130,
   "metadata": {},
   "outputs": [
    {
     "data": {
      "text/plain": [
       "<matplotlib.image.AxesImage at 0x7f9cf6f02730>"
      ]
     },
     "execution_count": 130,
     "metadata": {},
     "output_type": "execute_result"
    },
    {
     "data": {
      "image/png": "[encoded data removed]",
      "text/plain": [
       "<Figure size 288x288 with 1 Axes>"
      ]
     },
     "metadata": {
      "needs_background": "light"
     },
     "output_type": "display_data"
    }
   ],
   "source": [
    "# normalize colors\n",
    "conf_mx_norm = conf_mx / conf_mx.sum(axis=1, keepdims=True)\n",
    "plt.matshow(conf_mx_norm)"
   ]
  },
  {
   "cell_type": "markdown",
   "metadata": {},
   "source": [
    "## Multinomial Logistic"
   ]
  },
  {
   "cell_type": "code",
   "execution_count": 131,
   "metadata": {},
   "outputs": [
    {
     "data": {
      "text/plain": [
       "(0.18359375, 0.008438464451051902)"
      ]
     },
     "execution_count": 131,
     "metadata": {},
     "output_type": "execute_result"
    }
   ],
   "source": [
    "\n",
    "from sklearn.linear_model import LogisticRegression\n",
    "logistic = LogisticRegression(C=1, # default L2 penalty # .01, .1, 1, 2, 10\n",
    "                              class_weight='balanced')\n",
    "\n",
    "scores = cross_val_score(logistic,\n",
    "                         Xscale[:1000],\n",
    "                         author[:1000],\n",
    "                         cv=3,\n",
    "                         n_jobs=3)\n",
    "\n",
    "scores.mean(), scores.std()"
   ]
  },
  {
   "cell_type": "markdown",
   "metadata": {},
   "source": [
    "# Ensemble Learning\n",
    "\n",
    "**Task:** Predict if citations are above average using word frequencies and authorship"
   ]
  },
  {
   "cell_type": "code",
   "execution_count": 133,
   "metadata": {},
   "outputs": [],
   "source": [
    "# missing values\n",
    "df['authorship_id'].fillna(0,inplace=True)"
   ]
  },
  {
   "cell_type": "code",
   "execution_count": 148,
   "metadata": {},
   "outputs": [],
   "source": [
    "# Scaling\n",
    "from sklearn.preprocessing import StandardScaler\n",
    "scaler = StandardScaler()\n",
    "X = scaler.fit_transform(df2[features])\n",
    "feat_scaled = pd.DataFrame(X,columns=features)"
   ]
  },
  {
   "cell_type": "code",
   "execution_count": 150,
   "metadata": {},
   "outputs": [
    {
     "data": {
      "text/html": [
       "<div>\n",
       "<style scoped>\n",
       "    .dataframe tbody tr th:only-of-type {\n",
       "        vertical-align: middle;\n",
       "    }\n",
       "\n",
       "    .dataframe tbody tr th {\n",
       "        vertical-align: top;\n",
       "    }\n",
       "\n",
       "    .dataframe thead th {\n",
       "        text-align: right;\n",
       "    }\n",
       "</style>\n",
       "<table border=\"1\" class=\"dataframe\">\n",
       "  <thead>\n",
       "    <tr style=\"text-align: right;\">\n",
       "      <th></th>\n",
       "      <th>x_act</th>\n",
       "      <th>x_claim</th>\n",
       "      <th>x_congress</th>\n",
       "      <th>x_district</th>\n",
       "      <th>x_district court</th>\n",
       "      <th>x_government</th>\n",
       "      <th>x_rule</th>\n",
       "      <th>x_state</th>\n",
       "      <th>x_statute</th>\n",
       "      <th>x_supra</th>\n",
       "    </tr>\n",
       "  </thead>\n",
       "  <tbody>\n",
       "    <tr>\n",
       "      <th>0</th>\n",
       "      <td>0.133934</td>\n",
       "      <td>-0.583756</td>\n",
       "      <td>0.579275</td>\n",
       "      <td>0.080505</td>\n",
       "      <td>0.213363</td>\n",
       "      <td>-0.477066</td>\n",
       "      <td>0.396905</td>\n",
       "      <td>0.257236</td>\n",
       "      <td>-0.458085</td>\n",
       "      <td>-0.511424</td>\n",
       "    </tr>\n",
       "    <tr>\n",
       "      <th>1</th>\n",
       "      <td>0.710225</td>\n",
       "      <td>0.497245</td>\n",
       "      <td>-0.151849</td>\n",
       "      <td>-0.592319</td>\n",
       "      <td>-0.455040</td>\n",
       "      <td>-0.505043</td>\n",
       "      <td>-0.729197</td>\n",
       "      <td>1.051051</td>\n",
       "      <td>-0.194249</td>\n",
       "      <td>-0.788551</td>\n",
       "    </tr>\n",
       "    <tr>\n",
       "      <th>2</th>\n",
       "      <td>-0.854463</td>\n",
       "      <td>-0.804605</td>\n",
       "      <td>-0.667580</td>\n",
       "      <td>2.012463</td>\n",
       "      <td>2.318651</td>\n",
       "      <td>-0.582785</td>\n",
       "      <td>-0.729197</td>\n",
       "      <td>0.526462</td>\n",
       "      <td>-0.143768</td>\n",
       "      <td>-0.700480</td>\n",
       "    </tr>\n",
       "    <tr>\n",
       "      <th>3</th>\n",
       "      <td>0.736470</td>\n",
       "      <td>1.481837</td>\n",
       "      <td>-0.072067</td>\n",
       "      <td>-0.934071</td>\n",
       "      <td>-0.941150</td>\n",
       "      <td>-0.570873</td>\n",
       "      <td>-0.502084</td>\n",
       "      <td>0.552971</td>\n",
       "      <td>-0.662229</td>\n",
       "      <td>0.361453</td>\n",
       "    </tr>\n",
       "    <tr>\n",
       "      <th>4</th>\n",
       "      <td>-0.837396</td>\n",
       "      <td>-0.362906</td>\n",
       "      <td>-0.829993</td>\n",
       "      <td>2.211115</td>\n",
       "      <td>3.243959</td>\n",
       "      <td>-0.477066</td>\n",
       "      <td>-0.729197</td>\n",
       "      <td>-0.038499</td>\n",
       "      <td>-0.843690</td>\n",
       "      <td>0.086919</td>\n",
       "    </tr>\n",
       "  </tbody>\n",
       "</table>\n",
       "</div>"
      ],
      "text/plain": [
       "      x_act   x_claim  x_congress  x_district  x_district court  x_government  \\\n",
       "0  0.133934 -0.583756    0.579275    0.080505          0.213363     -0.477066   \n",
       "1  0.710225  0.497245   -0.151849   -0.592319         -0.455040     -0.505043   \n",
       "2 -0.854463 -0.804605   -0.667580    2.012463          2.318651     -0.582785   \n",
       "3  0.736470  1.481837   -0.072067   -0.934071         -0.941150     -0.570873   \n",
       "4 -0.837396 -0.362906   -0.829993    2.211115          3.243959     -0.477066   \n",
       "\n",
       "     x_rule   x_state  x_statute   x_supra  \n",
       "0  0.396905  0.257236  -0.458085 -0.511424  \n",
       "1 -0.729197  1.051051  -0.194249 -0.788551  \n",
       "2 -0.729197  0.526462  -0.143768 -0.700480  \n",
       "3 -0.502084  0.552971  -0.662229  0.361453  \n",
       "4 -0.729197 -0.038499  -0.843690  0.086919  "
      ]
     },
     "execution_count": 150,
     "metadata": {},
     "output_type": "execute_result"
    }
   ],
   "source": [
    "feat_scaled.head()"
   ]
  },
  {
   "cell_type": "code",
   "execution_count": 151,
   "metadata": {},
   "outputs": [],
   "source": [
    "# Encoding categorical variables\n",
    "from sklearn.preprocessing import OneHotEncoder\n",
    "encoder = OneHotEncoder()\n",
    "judge = df['authorship_id']\n",
    "judge_fes = encoder.fit_transform(judge.values.reshape(-1,1))\n",
    "judge_ids = ['j_'+str(x) for x in range(len(judge.unique()))]\n",
    "judge_fes = pd.DataFrame(judge_fes.todense(),columns=judge_ids)\n",
    "rep = pd.DataFrame(df['x_republican'][0].T,columns=['republican'])\n",
    "df_scaled = pd.concat([df2['log_cite_count'],feat_scaled,judge_fes, rep],axis=1)\n",
    "train, test = train_test_split(df_scaled, test_size=0.2)"
   ]
  },
  {
   "cell_type": "code",
   "execution_count": 152,
   "metadata": {},
   "outputs": [
    {
     "data": {
      "text/html": [
       "<div>\n",
       "<style scoped>\n",
       "    .dataframe tbody tr th:only-of-type {\n",
       "        vertical-align: middle;\n",
       "    }\n",
       "\n",
       "    .dataframe tbody tr th {\n",
       "        vertical-align: top;\n",
       "    }\n",
       "\n",
       "    .dataframe thead th {\n",
       "        text-align: right;\n",
       "    }\n",
       "</style>\n",
       "<table border=\"1\" class=\"dataframe\">\n",
       "  <thead>\n",
       "    <tr style=\"text-align: right;\">\n",
       "      <th></th>\n",
       "      <th>log_cite_count</th>\n",
       "      <th>x_act</th>\n",
       "      <th>x_claim</th>\n",
       "      <th>x_congress</th>\n",
       "      <th>x_district</th>\n",
       "      <th>x_district court</th>\n",
       "      <th>x_government</th>\n",
       "      <th>x_rule</th>\n",
       "      <th>x_state</th>\n",
       "      <th>x_statute</th>\n",
       "      <th>...</th>\n",
       "      <th>j_2</th>\n",
       "      <th>j_3</th>\n",
       "      <th>j_4</th>\n",
       "      <th>j_5</th>\n",
       "      <th>j_6</th>\n",
       "      <th>j_7</th>\n",
       "      <th>j_8</th>\n",
       "      <th>j_9</th>\n",
       "      <th>j_10</th>\n",
       "      <th>republican</th>\n",
       "    </tr>\n",
       "  </thead>\n",
       "  <tbody>\n",
       "    <tr>\n",
       "      <th>0</th>\n",
       "      <td>7.981392</td>\n",
       "      <td>0.133934</td>\n",
       "      <td>-0.583756</td>\n",
       "      <td>0.579275</td>\n",
       "      <td>0.080505</td>\n",
       "      <td>0.213363</td>\n",
       "      <td>-0.477066</td>\n",
       "      <td>0.396905</td>\n",
       "      <td>0.257236</td>\n",
       "      <td>-0.458085</td>\n",
       "      <td>...</td>\n",
       "      <td>1.0</td>\n",
       "      <td>0.0</td>\n",
       "      <td>0.0</td>\n",
       "      <td>0.0</td>\n",
       "      <td>0.0</td>\n",
       "      <td>0.0</td>\n",
       "      <td>0.0</td>\n",
       "      <td>0.0</td>\n",
       "      <td>0.0</td>\n",
       "      <td>0.0</td>\n",
       "    </tr>\n",
       "    <tr>\n",
       "      <th>1</th>\n",
       "      <td>4.762174</td>\n",
       "      <td>0.710225</td>\n",
       "      <td>0.497245</td>\n",
       "      <td>-0.151849</td>\n",
       "      <td>-0.592319</td>\n",
       "      <td>-0.455040</td>\n",
       "      <td>-0.505043</td>\n",
       "      <td>-0.729197</td>\n",
       "      <td>1.051051</td>\n",
       "      <td>-0.194249</td>\n",
       "      <td>...</td>\n",
       "      <td>0.0</td>\n",
       "      <td>0.0</td>\n",
       "      <td>0.0</td>\n",
       "      <td>0.0</td>\n",
       "      <td>0.0</td>\n",
       "      <td>0.0</td>\n",
       "      <td>0.0</td>\n",
       "      <td>1.0</td>\n",
       "      <td>0.0</td>\n",
       "      <td>1.0</td>\n",
       "    </tr>\n",
       "    <tr>\n",
       "      <th>2</th>\n",
       "      <td>10.058952</td>\n",
       "      <td>-0.854463</td>\n",
       "      <td>-0.804605</td>\n",
       "      <td>-0.667580</td>\n",
       "      <td>2.012463</td>\n",
       "      <td>2.318651</td>\n",
       "      <td>-0.582785</td>\n",
       "      <td>-0.729197</td>\n",
       "      <td>0.526462</td>\n",
       "      <td>-0.143768</td>\n",
       "      <td>...</td>\n",
       "      <td>0.0</td>\n",
       "      <td>0.0</td>\n",
       "      <td>1.0</td>\n",
       "      <td>0.0</td>\n",
       "      <td>0.0</td>\n",
       "      <td>0.0</td>\n",
       "      <td>0.0</td>\n",
       "      <td>0.0</td>\n",
       "      <td>0.0</td>\n",
       "      <td>1.0</td>\n",
       "    </tr>\n",
       "    <tr>\n",
       "      <th>3</th>\n",
       "      <td>4.430817</td>\n",
       "      <td>0.736470</td>\n",
       "      <td>1.481837</td>\n",
       "      <td>-0.072067</td>\n",
       "      <td>-0.934071</td>\n",
       "      <td>-0.941150</td>\n",
       "      <td>-0.570873</td>\n",
       "      <td>-0.502084</td>\n",
       "      <td>0.552971</td>\n",
       "      <td>-0.662229</td>\n",
       "      <td>...</td>\n",
       "      <td>0.0</td>\n",
       "      <td>1.0</td>\n",
       "      <td>0.0</td>\n",
       "      <td>0.0</td>\n",
       "      <td>0.0</td>\n",
       "      <td>0.0</td>\n",
       "      <td>0.0</td>\n",
       "      <td>0.0</td>\n",
       "      <td>0.0</td>\n",
       "      <td>1.0</td>\n",
       "    </tr>\n",
       "    <tr>\n",
       "      <th>4</th>\n",
       "      <td>8.349957</td>\n",
       "      <td>-0.837396</td>\n",
       "      <td>-0.362906</td>\n",
       "      <td>-0.829993</td>\n",
       "      <td>2.211115</td>\n",
       "      <td>3.243959</td>\n",
       "      <td>-0.477066</td>\n",
       "      <td>-0.729197</td>\n",
       "      <td>-0.038499</td>\n",
       "      <td>-0.843690</td>\n",
       "      <td>...</td>\n",
       "      <td>0.0</td>\n",
       "      <td>1.0</td>\n",
       "      <td>0.0</td>\n",
       "      <td>0.0</td>\n",
       "      <td>0.0</td>\n",
       "      <td>0.0</td>\n",
       "      <td>0.0</td>\n",
       "      <td>0.0</td>\n",
       "      <td>0.0</td>\n",
       "      <td>1.0</td>\n",
       "    </tr>\n",
       "  </tbody>\n",
       "</table>\n",
       "<p>5 rows × 23 columns</p>\n",
       "</div>"
      ],
      "text/plain": [
       "   log_cite_count     x_act   x_claim  x_congress  x_district  \\\n",
       "0        7.981392  0.133934 -0.583756    0.579275    0.080505   \n",
       "1        4.762174  0.710225  0.497245   -0.151849   -0.592319   \n",
       "2       10.058952 -0.854463 -0.804605   -0.667580    2.012463   \n",
       "3        4.430817  0.736470  1.481837   -0.072067   -0.934071   \n",
       "4        8.349957 -0.837396 -0.362906   -0.829993    2.211115   \n",
       "\n",
       "   x_district court  x_government    x_rule   x_state  x_statute  ...  j_2  \\\n",
       "0          0.213363     -0.477066  0.396905  0.257236  -0.458085  ...  1.0   \n",
       "1         -0.455040     -0.505043 -0.729197  1.051051  -0.194249  ...  0.0   \n",
       "2          2.318651     -0.582785 -0.729197  0.526462  -0.143768  ...  0.0   \n",
       "3         -0.941150     -0.570873 -0.502084  0.552971  -0.662229  ...  0.0   \n",
       "4          3.243959     -0.477066 -0.729197 -0.038499  -0.843690  ...  0.0   \n",
       "\n",
       "   j_3  j_4  j_5  j_6  j_7  j_8  j_9  j_10  republican  \n",
       "0  0.0  0.0  0.0  0.0  0.0  0.0  0.0   0.0         0.0  \n",
       "1  0.0  0.0  0.0  0.0  0.0  0.0  1.0   0.0         1.0  \n",
       "2  0.0  1.0  0.0  0.0  0.0  0.0  0.0   0.0         1.0  \n",
       "3  1.0  0.0  0.0  0.0  0.0  0.0  0.0   0.0         1.0  \n",
       "4  1.0  0.0  0.0  0.0  0.0  0.0  0.0   0.0         1.0  \n",
       "\n",
       "[5 rows x 23 columns]"
      ]
     },
     "execution_count": 152,
     "metadata": {},
     "output_type": "execute_result"
    }
   ],
   "source": [
    "df_scaled.head()"
   ]
  },
  {
   "cell_type": "code",
   "execution_count": 156,
   "metadata": {},
   "outputs": [
    {
     "data": {
      "text/plain": [
       "0.6015193956370426"
      ]
     },
     "execution_count": 156,
     "metadata": {},
     "output_type": "execute_result"
    }
   ],
   "source": [
    "Y = df_scaled['log_cite_count']>df_scaled['log_cite_count'].mean()\n",
    "predictors = df_scaled[features + judge_ids]\n",
    "# Bagging classifier\n",
    "\n",
    "from sklearn.ensemble import BaggingClassifier\n",
    "from sklearn.tree import DecisionTreeClassifier\n",
    "\n",
    "bag_clf = BaggingClassifier(\n",
    "        DecisionTreeClassifier(), n_estimators=50,\n",
    "        max_samples=100, bootstrap=True, n_jobs=-1\n",
    "    )\n",
    "\n",
    "cross_val_score(bag_clf, predictors, Y).mean()"
   ]
  },
  {
   "cell_type": "code",
   "execution_count": 157,
   "metadata": {},
   "outputs": [
    {
     "data": {
      "text/plain": [
       "array([[262, 130],\n",
       "       [157, 219]])"
      ]
     },
     "execution_count": 157,
     "metadata": {},
     "output_type": "execute_result"
    }
   ],
   "source": [
    "# random forest\n",
    "from sklearn.ensemble import RandomForestClassifier\n",
    "rnd_clf = RandomForestClassifier(n_estimators=500, \n",
    "                                 max_leaf_nodes=16, \n",
    "                                 n_jobs=-1)\n",
    "y_pred_rf = cross_val_predict(rnd_clf, predictors, Y)                              \n",
    "confusion_matrix(Y,y_pred_rf)"
   ]
  },
  {
   "cell_type": "code",
   "execution_count": 159,
   "metadata": {},
   "outputs": [
    {
     "data": {
      "text/plain": [
       "[(0.04642820325898519, 'government'),\n",
       " (0.05708713964017786, 'district court'),\n",
       " (0.05936696596843005, 'district'),\n",
       " (0.07682500034706073, 'rule'),\n",
       " (0.08686004862993521, 'claim'),\n",
       " (0.09356025215699373, 'statute'),\n",
       " (0.10030771500416491, 'state'),\n",
       " (0.11644826215218448, 'congress'),\n",
       " (0.13544849063504197, 'supra'),\n",
       " (0.16313736558881253, 'act')]"
      ]
     },
     "execution_count": 159,
     "metadata": {},
     "output_type": "execute_result"
    }
   ],
   "source": [
    "rnd_clf.fit(predictors,Y)\n",
    "feature_importances = rnd_clf.feature_importances_\n",
    "sorted(zip(feature_importances, words), reverse=False)"
   ]
  },
  {
   "cell_type": "code",
   "execution_count": 160,
   "metadata": {},
   "outputs": [
    {
     "name": "stdout",
     "output_type": "stream",
     "text": [
      "[10:36:32] WARNING: ../src/learner.cc:1115: Starting in XGBoost 1.3.0, the default evaluation metric used with the objective 'binary:logistic' was changed from 'error' to 'logloss'. Explicitly set eval_metric if you'd like to restore the old behavior.\n",
      "[10:36:32] WARNING: ../src/learner.cc:1115: Starting in XGBoost 1.3.0, the default evaluation metric used with the objective 'binary:logistic' was changed from 'error' to 'logloss'. Explicitly set eval_metric if you'd like to restore the old behavior.\n",
      "[10:36:32] WARNING: ../src/learner.cc:1115: Starting in XGBoost 1.3.0, the default evaluation metric used with the objective 'binary:logistic' was changed from 'error' to 'logloss'. Explicitly set eval_metric if you'd like to restore the old behavior.\n",
      "[10:36:33] WARNING: ../src/learner.cc:1115: Starting in XGBoost 1.3.0, the default evaluation metric used with the objective 'binary:logistic' was changed from 'error' to 'logloss'. Explicitly set eval_metric if you'd like to restore the old behavior.\n",
      "[10:36:33] WARNING: ../src/learner.cc:1115: Starting in XGBoost 1.3.0, the default evaluation metric used with the objective 'binary:logistic' was changed from 'error' to 'logloss'. Explicitly set eval_metric if you'd like to restore the old behavior.\n"
     ]
    },
    {
     "data": {
      "text/plain": [
       "0.5572956455309395"
      ]
     },
     "execution_count": 160,
     "metadata": {},
     "output_type": "execute_result"
    }
   ],
   "source": [
    "# XGBoost\n",
    "from xgboost import XGBClassifier, XGBRegressor\n",
    "\n",
    "xgb_clf = XGBClassifier()\n",
    "cross_val_score(xgb_clf, predictors, Y).mean()"
   ]
  },
  {
   "cell_type": "code",
   "execution_count": 163,
   "metadata": {},
   "outputs": [
    {
     "data": {
      "text/plain": [
       "[(0.050178885, 'supra'),\n",
       " (0.04513312, 'state'),\n",
       " (0.043656968, 'statute'),\n",
       " (0.043051984, 'rule'),\n",
       " (0.040554225, 'congress'),\n",
       " (0.03969111, 'claim'),\n",
       " (0.03948206, 'government'),\n",
       " (0.037559334, 'district'),\n",
       " (0.036931258, 'district court'),\n",
       " (0.03522939, 'act')]"
      ]
     },
     "execution_count": 163,
     "metadata": {},
     "output_type": "execute_result"
    }
   ],
   "source": [
    "xgb_reg = XGBRegressor()\n",
    "xgb_reg.fit(predictors,Y)\n",
    "sorted(zip(xgb_reg.feature_importances_, words),reverse=True)[:10]"
   ]
  },
  {
   "cell_type": "code",
   "execution_count": 164,
   "metadata": {},
   "outputs": [
    {
     "data": {
      "text/plain": [
       "<AxesSubplot:title={'center':'Feature importance'}, xlabel='F score', ylabel='Features'>"
      ]
     },
     "execution_count": 164,
     "metadata": {},
     "output_type": "execute_result"
    },
    {
     "data": {
      "image/png": "[encoded data removed]",
      "text/plain": [
       "<Figure size 432x288 with 1 Axes>"
      ]
     },
     "metadata": {
      "needs_background": "light"
     },
     "output_type": "display_data"
    }
   ],
   "source": [
    "from xgboost import plot_importance\n",
    "plot_importance(xgb_reg, max_num_features=5)"
   ]
  },
  {
   "cell_type": "markdown",
   "metadata": {},
   "source": [
    "# Pipelines and Cross-Validation\n",
    "\n",
    "**Task:** Predict party affiliation using using vectorized word frequencies"
   ]
  },
  {
   "cell_type": "code",
   "execution_count": 167,
   "metadata": {},
   "outputs": [
    {
     "name": "stdout",
     "output_type": "stream",
     "text": [
      "0.75390625 0.014615849167085708\n"
     ]
    }
   ],
   "source": [
    "# Cross-validation\n",
    "from sklearn.ensemble import RandomForestClassifier\n",
    "forest_reg = RandomForestClassifier()\n",
    "\n",
    "from sklearn.model_selection import cross_val_score\n",
    "scores = cross_val_score(forest_reg,\n",
    "                         df_scaled[features],\n",
    "                         df_scaled['republican'],\n",
    "                         cv=3,\n",
    "                         n_jobs=-1)\n",
    "\n",
    "# the default score for random forest reg is negative MSE.\n",
    "print(np.abs(scores.mean()),scores.std())"
   ]
  },
  {
   "cell_type": "code",
   "execution_count": 168,
   "metadata": {},
   "outputs": [
    {
     "name": "stdout",
     "output_type": "stream",
     "text": [
      "{'bootstrap': True, 'max_features': 4, 'n_estimators': 30}\n",
      "0.75390625\n"
     ]
    }
   ],
   "source": [
    "# Grid Search\n",
    "from sklearn.model_selection import GridSearchCV\n",
    "param_grid = {'n_estimators': [3, 10, 30],\n",
    "              'max_features': [2, 4],\n",
    "              'bootstrap': [True, False]}\n",
    "\n",
    "grid_search = GridSearchCV(forest_reg, \n",
    "                           param_grid, \n",
    "                           cv=3)              \n",
    "grid_search.fit(df_scaled[features],df_scaled['republican'])\n",
    "\n",
    "print(grid_search.best_params_)\n",
    "print(np.abs(grid_search.best_score_))"
   ]
  },
  {
   "cell_type": "code",
   "execution_count": 169,
   "metadata": {},
   "outputs": [
    {
     "name": "stdout",
     "output_type": "stream",
     "text": [
      "{'n_estimators': 30, 'max_features': 2, 'bootstrap': True}\n",
      "0.7513020833333334\n"
     ]
    }
   ],
   "source": [
    "from sklearn.model_selection import RandomizedSearchCV\n",
    "rand_search = RandomizedSearchCV(forest_reg, param_grid, cv=3)              \n",
    "rand_search.fit(df_scaled[features],df_scaled['republican'])\n",
    "\n",
    "print(rand_search.best_params_)\n",
    "print(np.abs(rand_search.best_score_))"
   ]
  },
  {
   "cell_type": "code",
   "execution_count": 55,
   "metadata": {},
   "outputs": [],
   "source": [
    "# Saving and loading\n",
    "import joblib\n",
    "joblib.dump(forest_reg,'forest_reg.pkl') # will overwrite local files\n",
    "forest_reg = joblib.load('forest_reg.pkl')"
   ]
  },
  {
   "cell_type": "code",
   "execution_count": 179,
   "metadata": {},
   "outputs": [],
   "source": [
    "from sklearn.pipeline import Pipeline\n",
    "from sklearn.feature_extraction.text import TfidfTransformer\n",
    "\n",
    "pipeline = Pipeline([\n",
    "    ('vect', CountVectorizer()),\n",
    "    ('tfidf', TfidfTransformer()),\n",
    "    ('forest_reg', RandomForestClassifier()),\n",
    "])\n",
    "\n",
    "parameters = {\n",
    "    'vect__max_df': (0.5, 0.75, 1.0),\n",
    "    'vect__max_features': (2, 4, 8, 10, 16),\n",
    "    'forest_reg__n_estimators': [3, 10, 30],\n",
    "    'forest_reg__max_features': [2, 4],\n",
    "    'forest_reg__bootstrap': [True, False]}"
   ]
  },
  {
   "cell_type": "code",
   "execution_count": null,
   "metadata": {},
   "outputs": [],
   "source": [
    "from pprint import pprint\n",
    "from time import time\n",
    "\n",
    "if __name__ == \"__main__\":\n",
    "    # multiprocessing requires the fork to happen in a __main__ protected\n",
    "    # block\n",
    "\n",
    "    # find the best parameters for both the feature extraction and the\n",
    "    # classifier\n",
    "    grid_search = GridSearchCV(pipeline, parameters, n_jobs=-1, verbose=1)\n",
    "\n",
    "    print(\"Performing grid search...\")\n",
    "    print(\"pipeline:\", [name for name, _ in pipeline.steps])\n",
    "    print(\"parameters:\")\n",
    "    pprint(parameters)\n",
    "    t0 = time()\n",
    "    grid_search.fit(df.opinion_text, df.x_republican)\n",
    "    print(\"done in %0.3fs\" % (time() - t0))\n",
    "    print()\n",
    "\n",
    "    print(\"Best score: %0.3f\" % grid_search.best_score_)\n",
    "    print(\"Best parameters set:\")\n",
    "    best_parameters = grid_search.best_estimator_.get_params()\n",
    "    for param_name in sorted(parameters.keys()):\n",
    "        print(\"\\t%s: %r\" % (param_name, best_parameters[param_name]))"
   ]
  },
  {
   "cell_type": "markdown",
   "metadata": {},
   "source": [
    "## Nested Cross-Validation"
   ]
  },
  {
   "cell_type": "code",
   "execution_count": 181,
   "metadata": {},
   "outputs": [
    {
     "name": "stdout",
     "output_type": "stream",
     "text": [
      "Average difference of 0.007018 with std. dev. of 0.019560.\n"
     ]
    }
   ],
   "source": [
    "import numpy as np\n",
    "from sklearn.model_selection import KFold\n",
    "n = 30\n",
    "\n",
    "forest_reg = RandomForestRegressor()\n",
    "non_nested_scores = np.zeros(n)\n",
    "nested_scores = np.zeros(n)\n",
    "\n",
    "\n",
    "param_grid = {'n_estimators': [3, 10, 30],\n",
    "              'max_features': [2, 4],\n",
    "              'bootstrap': [True, False]}\n",
    "\n",
    "for i in range(n):\n",
    "\n",
    "    # Choose cross-validation techniques for the inner and outer loops,\n",
    "\n",
    "    inner_cv = KFold(n_splits=4, shuffle=True, random_state=i)\n",
    "    outer_cv = KFold(n_splits=4, shuffle=True, random_state=i)\n",
    "\n",
    "    # Non_nested parameter search and scoring\n",
    "    grid_search = GridSearchCV(estimator=forest_reg, param_grid=param_grid, cv=inner_cv)\n",
    "    grid_search.fit(Xtrain, Ytrain)\n",
    "    non_nested_scores[i] = grid_search.best_score_\n",
    "\n",
    "    # Nested CV with parameter optimization\n",
    "    nested_score = cross_val_score(grid_search, X=Xtrain, y=Ytrain, cv=outer_cv)\n",
    "    nested_scores[i] = nested_score.mean()\n",
    "\n",
    "score_difference = non_nested_scores - nested_scores\n",
    "print(\"Average difference of {:6f} with std. dev. of {:6f}.\"\n",
    "      .format(score_difference.mean(), score_difference.std()))\n"
   ]
  },
  {
   "cell_type": "code",
   "execution_count": null,
   "metadata": {},
   "outputs": [],
   "source": []
  }
 ],
 "metadata": {
  "kernelspec": {
   "display_name": "Python 3",
   "language": "python",
   "name": "python3"
  },
  "language_info": {
   "codemirror_mode": {
    "name": "ipython",
    "version": 3
   },
   "file_extension": ".py",
   "mimetype": "text/x-python",
   "name": "python",
   "nbconvert_exporter": "python",
   "pygments_lexer": "ipython3",
   "version": "3.8.10"
  },
  "toc": {
   "base_numbering": 1,
   "nav_menu": {},
   "number_sections": true,
   "sideBar": true,
   "skip_h1_title": false,
   "title_cell": "Table of Contents",
   "title_sidebar": "Contents",
   "toc_cell": false,
   "toc_position": {},
   "toc_section_display": true,
   "toc_window_display": false
  }
 },
 "nbformat": 4,
 "nbformat_minor": 4
}
